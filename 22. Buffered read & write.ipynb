{
 "cells": [
  {
   "cell_type": "markdown",
   "id": "5c1c99e3-1f0d-45b1-b900-2c3aa0ec873d",
   "metadata": {},
   "source": [
    "Buffer Read & Write Opertion: When the file size is too large , we can read in chunks"
   ]
  },
  {
   "cell_type": "code",
   "execution_count": 19,
   "id": "fe087f89-8894-40cc-95e4-e23db35fe346",
   "metadata": {},
   "outputs": [],
   "source": [
    "import io"
   ]
  },
  {
   "cell_type": "code",
   "execution_count": 20,
   "id": "0a736830-1ba4-47f8-9d45-66c93270d89d",
   "metadata": {},
   "outputs": [],
   "source": [
    "with open(\"test.txt\",\"wb\") as f:\n",
    "    file = io.BufferedWriter(f)\n",
    "    file.write(b\"this is my buffer write\\n\") #\\n takes the next content in next line\n",
    "    file.write(b\"this is my second line that I am trying to write\")\n",
    "    file.flush()"
   ]
  },
  {
   "cell_type": "code",
   "execution_count": 22,
   "id": "b421cbe0-0cc4-4a31-aac6-1e2ea41dd97e",
   "metadata": {},
   "outputs": [
    {
     "name": "stdout",
     "output_type": "stream",
     "text": [
      "b'this is my buffer write\\nthis is my second line that I am trying to write'\n"
     ]
    }
   ],
   "source": [
    "with open(\"test.txt\",\"rb\") as f:\n",
    "    file = io.BufferedReader(f)\n",
    "    data = file.read()\n",
    "    print(data)"
   ]
  },
  {
   "cell_type": "code",
   "execution_count": 23,
   "id": "3f407de6-57a1-4c19-8371-bafe17419f08",
   "metadata": {},
   "outputs": [
    {
     "name": "stdout",
     "output_type": "stream",
     "text": [
      "b'this '\n"
     ]
    }
   ],
   "source": [
    "with open(\"test.txt\",'rb') as f:\n",
    "    file = io.BufferedReader(f)\n",
    "    data = file.read(5) # to read in specific chunks,just give the size\n",
    "    print(data)"
   ]
  },
  {
   "cell_type": "code",
   "execution_count": null,
   "id": "74d2d509-4ea4-4fef-adb1-29a8c4ed2cd3",
   "metadata": {},
   "outputs": [],
   "source": []
  }
 ],
 "metadata": {
  "kernelspec": {
   "display_name": "Python 3 (ipykernel)",
   "language": "python",
   "name": "python3"
  },
  "language_info": {
   "codemirror_mode": {
    "name": "ipython",
    "version": 3
   },
   "file_extension": ".py",
   "mimetype": "text/x-python",
   "name": "python",
   "nbconvert_exporter": "python",
   "pygments_lexer": "ipython3",
   "version": "3.10.8"
  }
 },
 "nbformat": 4,
 "nbformat_minor": 5
}
