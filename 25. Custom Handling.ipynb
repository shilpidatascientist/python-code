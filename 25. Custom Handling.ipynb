{
 "cells": [
  {
   "cell_type": "markdown",
   "id": "54c4c0ca-deee-48e2-bde4-32e9e84b7874",
   "metadata": {},
   "source": [
    "Custom Exception handling:\n",
    "These are user built classes to handle exceptions which are not system errors but user want to handle it.\n",
    "Use \"raise\" keyword to call custom class"
   ]
  },
  {
   "cell_type": "code",
   "execution_count": 1,
   "id": "bf31c3d8-b589-4452-9cab-4b0e414ff8d2",
   "metadata": {},
   "outputs": [
    {
     "name": "stdin",
     "output_type": "stream",
     "text": [
      "Enter your age:  -222\n"
     ]
    }
   ],
   "source": [
    "age = int(input(\"Enter your age: \"))"
   ]
  },
  {
   "cell_type": "code",
   "execution_count": 3,
   "id": "44475911-36ce-41fb-99ed-1a855617c3e5",
   "metadata": {},
   "outputs": [],
   "source": [
    "#create a custom class that inherites Exception class\n",
    "class validateage(Exception):\n",
    "    def __init__(self, msg):\n",
    "        self.msg = msg"
   ]
  },
  {
   "cell_type": "code",
   "execution_count": 4,
   "id": "583ea080-4c94-42af-989d-cefc9de7cb39",
   "metadata": {},
   "outputs": [],
   "source": [
    "def validate_age(age):\n",
    "    if age < 0:\n",
    "        raise validateage(\"age should not be lesses than zero\")\n",
    "    elif age >200:\n",
    "        raise validateage(\"age is too high\")\n",
    "    else:\n",
    "        print(\"age is valid\")"
   ]
  },
  {
   "cell_type": "code",
   "execution_count": 5,
   "id": "553b03d0-c0e5-4779-af24-c6a982b97b43",
   "metadata": {},
   "outputs": [
    {
     "name": "stdin",
     "output_type": "stream",
     "text": [
      "Enter your age:  -33\n"
     ]
    },
    {
     "name": "stdout",
     "output_type": "stream",
     "text": [
      "age should not be lesses than zero\n"
     ]
    }
   ],
   "source": [
    "try:\n",
    "    age = int(input(\"Enter your age: \"))\n",
    "    validate_age(age)\n",
    "except validateage as e:\n",
    "              print(e)\n",
    "              "
   ]
  },
  {
   "cell_type": "code",
   "execution_count": null,
   "id": "e356bd89-628e-4088-8b7e-066aaa092562",
   "metadata": {},
   "outputs": [],
   "source": []
  },
  {
   "cell_type": "code",
   "execution_count": null,
   "id": "c396853b-b8f2-43ed-84af-c69ea1fee933",
   "metadata": {},
   "outputs": [],
   "source": []
  }
 ],
 "metadata": {
  "kernelspec": {
   "display_name": "Python 3 (ipykernel)",
   "language": "python",
   "name": "python3"
  },
  "language_info": {
   "codemirror_mode": {
    "name": "ipython",
    "version": 3
   },
   "file_extension": ".py",
   "mimetype": "text/x-python",
   "name": "python",
   "nbconvert_exporter": "python",
   "pygments_lexer": "ipython3",
   "version": "3.10.8"
  }
 },
 "nbformat": 4,
 "nbformat_minor": 5
}
