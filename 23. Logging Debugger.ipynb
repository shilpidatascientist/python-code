{
 "cells": [
  {
   "cell_type": "markdown",
   "id": "11a29247-f495-4d08-8a84-bf6d8d4790c1",
   "metadata": {},
   "source": [
    "Logging Debugger"
   ]
  },
  {
   "cell_type": "code",
   "execution_count": 25,
   "id": "9ce08274-bb0b-45c7-9671-ca85c60865bd",
   "metadata": {},
   "outputs": [
    {
     "name": "stdout",
     "output_type": "stream",
     "text": [
      "this is my print statement\n"
     ]
    }
   ],
   "source": [
    "print(\"this is my print statement\")"
   ]
  },
  {
   "cell_type": "code",
   "execution_count": 26,
   "id": "8bc570e2-b6d0-48de-8ba0-77dca159610a",
   "metadata": {},
   "outputs": [],
   "source": [
    "import logging"
   ]
  },
  {
   "cell_type": "code",
   "execution_count": 27,
   "id": "bf9a9002-648e-4ffc-a918-232e56358f68",
   "metadata": {},
   "outputs": [],
   "source": [
    "logging.basicConfig(filename = \"test.log\",level = logging.INFO)"
   ]
  },
  {
   "cell_type": "code",
   "execution_count": 28,
   "id": "8ad0dfb1-c675-493f-a7c8-c809412a434e",
   "metadata": {},
   "outputs": [],
   "source": [
    "logging.info(\"this is my first line of execution\")"
   ]
  },
  {
   "cell_type": "code",
   "execution_count": 29,
   "id": "d2530128-a2b6-45a9-8700-7e2907697de7",
   "metadata": {},
   "outputs": [],
   "source": [
    "logging.error(\"this is my error\")"
   ]
  },
  {
   "cell_type": "code",
   "execution_count": 30,
   "id": "11d648b9-1969-43d6-9605-48e0c4a1c7cf",
   "metadata": {},
   "outputs": [],
   "source": [
    "logging.critical(\"this is my critical\")"
   ]
  },
  {
   "cell_type": "markdown",
   "id": "11ddc319-7708-4a84-86f8-105e02e8e395",
   "metadata": {},
   "source": [
    "Hierarchy:\n",
    "1. Noset\n",
    "2. Debug\n",
    "3. Info\n",
    "4. Warning\n",
    "5. Error\n",
    "6. Critical"
   ]
  },
  {
   "cell_type": "code",
   "execution_count": 21,
   "id": "79af270f-6477-477a-9d6f-76e730f81235",
   "metadata": {},
   "outputs": [],
   "source": [
    "logging.debug(\"This is my debug\")"
   ]
  },
  {
   "cell_type": "code",
   "execution_count": 22,
   "id": "be70c164-be98-4ab3-b66e-64001a0410d0",
   "metadata": {},
   "outputs": [],
   "source": [
    "logging.warning(\"this is my warning\")"
   ]
  },
  {
   "cell_type": "code",
   "execution_count": 23,
   "id": "cd77257a-4b84-4948-acfe-4413fadebd11",
   "metadata": {},
   "outputs": [],
   "source": [
    "logging.shutdown()"
   ]
  },
  {
   "cell_type": "code",
   "execution_count": 24,
   "id": "2ce21c6b-4c15-43f3-a25b-d421d9dac811",
   "metadata": {},
   "outputs": [],
   "source": [
    "logging.basicConfig(filename = \"test1.log\", level = logging.DEBUG,format = '%(asctime)s %(name)s %(levelname)s')"
   ]
  },
  {
   "cell_type": "code",
   "execution_count": null,
   "id": "ce4f5e3b-7525-46e2-83d8-e504d2634061",
   "metadata": {},
   "outputs": [],
   "source": []
  },
  {
   "cell_type": "code",
   "execution_count": null,
   "id": "0687efbe-5078-4ff5-b26d-7eff9e43af55",
   "metadata": {},
   "outputs": [],
   "source": []
  },
  {
   "cell_type": "code",
   "execution_count": null,
   "id": "d51691f5-0376-40d6-a961-2315c4e37f5c",
   "metadata": {},
   "outputs": [],
   "source": []
  }
 ],
 "metadata": {
  "kernelspec": {
   "display_name": "Python 3 (ipykernel)",
   "language": "python",
   "name": "python3"
  },
  "language_info": {
   "codemirror_mode": {
    "name": "ipython",
    "version": 3
   },
   "file_extension": ".py",
   "mimetype": "text/x-python",
   "name": "python",
   "nbconvert_exporter": "python",
   "pygments_lexer": "ipython3",
   "version": "3.10.8"
  }
 },
 "nbformat": 4,
 "nbformat_minor": 5
}
