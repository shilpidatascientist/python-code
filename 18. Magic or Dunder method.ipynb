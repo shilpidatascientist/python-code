{
 "cells": [
  {
   "cell_type": "markdown",
   "id": "180b3d5f-4c1a-4b6c-8962-66c121e4561b",
   "metadata": {},
   "source": [
    "Magic or Dunder method(with 2 underscores)\n",
    "Not advisible to use dunder method directly,but can be used"
   ]
  },
  {
   "cell_type": "code",
   "execution_count": 1,
   "id": "48bf642e-ca8c-462c-8e66-e50ba0137fac",
   "metadata": {},
   "outputs": [],
   "source": [
    "a = 10"
   ]
  },
  {
   "cell_type": "code",
   "execution_count": 2,
   "id": "1ef9cf2c-eb95-4b9e-ba87-af315bad020c",
   "metadata": {},
   "outputs": [
    {
     "data": {
      "text/plain": [
       "16"
      ]
     },
     "execution_count": 2,
     "metadata": {},
     "output_type": "execute_result"
    }
   ],
   "source": [
    "a+6"
   ]
  },
  {
   "cell_type": "code",
   "execution_count": 3,
   "id": "abdd29e3-5725-4606-bb26-40ddb286f771",
   "metadata": {},
   "outputs": [
    {
     "data": {
      "text/plain": [
       "16"
      ]
     },
     "execution_count": 3,
     "metadata": {},
     "output_type": "execute_result"
    }
   ],
   "source": [
    "a.__add__(6)  #add dunder method"
   ]
  },
  {
   "cell_type": "code",
   "execution_count": null,
   "id": "871dfb83-5dcc-4a54-bcb5-e6ee5de805e8",
   "metadata": {},
   "outputs": [],
   "source": [
    "#to find the list of dunder methodas\n",
    "dir(str)"
   ]
  },
  {
   "cell_type": "code",
   "execution_count": 5,
   "id": "587a1096-f3b9-46b9-b081-10cb016f667e",
   "metadata": {},
   "outputs": [],
   "source": [
    "#in class example\n",
    "class pwskill:\n",
    "    def __init__(self):\n",
    "        print(\"this is my init\")"
   ]
  },
  {
   "cell_type": "code",
   "execution_count": 6,
   "id": "91ea8377-09b7-4b5f-86fa-726d4eeadda0",
   "metadata": {},
   "outputs": [
    {
     "name": "stdout",
     "output_type": "stream",
     "text": [
      "this is my init\n"
     ]
    }
   ],
   "source": [
    "pw=pwskill()"
   ]
  },
  {
   "cell_type": "code",
   "execution_count": 8,
   "id": "647f7b0e-957d-4055-acaa-e1c1664df404",
   "metadata": {},
   "outputs": [],
   "source": [
    "#internally init calls new magiuc function\n",
    "class pwskill1:\n",
    "    def __new__(cls):\n",
    "        print(\"this is my new\")\n",
    "        \n",
    "    def __init__(self):\n",
    "        print(\"this is my init\")"
   ]
  },
  {
   "cell_type": "code",
   "execution_count": 9,
   "id": "80036df2-1872-4eae-91a6-51bed4ca7364",
   "metadata": {},
   "outputs": [
    {
     "name": "stdout",
     "output_type": "stream",
     "text": [
      "this is my new\n"
     ]
    }
   ],
   "source": [
    "pw1=pwskill1()"
   ]
  },
  {
   "cell_type": "code",
   "execution_count": 11,
   "id": "48775584-f1b3-4ce7-88f4-0f0a601a7b0f",
   "metadata": {},
   "outputs": [],
   "source": [
    "class pwskill2:\n",
    "       \n",
    "    def __init__(self):\n",
    "        self.mobile_num = 9875647\n",
    "#here the mobile number does not get printed    "
   ]
  },
  {
   "cell_type": "code",
   "execution_count": 12,
   "id": "3909d6d7-7022-4f5a-ad5e-5e5e9582aa9a",
   "metadata": {},
   "outputs": [],
   "source": [
    "pw2 = pwskill2()"
   ]
  },
  {
   "cell_type": "code",
   "execution_count": 13,
   "id": "3dd83050-9c1c-4381-806e-3211ee975319",
   "metadata": {},
   "outputs": [
    {
     "name": "stdout",
     "output_type": "stream",
     "text": [
      "<__main__.pwskill2 object at 0x7fe024122740>\n"
     ]
    }
   ],
   "source": [
    "print(pw2)"
   ]
  },
  {
   "cell_type": "code",
   "execution_count": 18,
   "id": "d7b33ccd-b9cb-4ec2-a3ba-e0fc03571691",
   "metadata": {},
   "outputs": [],
   "source": [
    "#overrides the print statement with the help __str__ magic method\n",
    "class pwskill3:\n",
    "       \n",
    "    def __init__(self):\n",
    "        self.mobile_num = 9875647\n",
    "    \n",
    "    def __str__(self):\n",
    "        return(\"this is the output\")"
   ]
  },
  {
   "cell_type": "code",
   "execution_count": 19,
   "id": "18db42f6-2cc1-465b-8eef-1bcc99741799",
   "metadata": {},
   "outputs": [],
   "source": [
    "pw3 = pwskill3()"
   ]
  },
  {
   "cell_type": "code",
   "execution_count": 20,
   "id": "de9ced50-7523-485f-9e33-7dd8f453ce50",
   "metadata": {},
   "outputs": [
    {
     "name": "stdout",
     "output_type": "stream",
     "text": [
      "this is the output\n"
     ]
    }
   ],
   "source": [
    "print(pw3)"
   ]
  },
  {
   "cell_type": "code",
   "execution_count": 21,
   "id": "aa3e7ad6-9e19-48ef-91b2-4e72771daae4",
   "metadata": {},
   "outputs": [
    {
     "data": {
      "text/plain": [
       "['__class__',\n",
       " '__class_getitem__',\n",
       " '__contains__',\n",
       " '__delattr__',\n",
       " '__delitem__',\n",
       " '__dir__',\n",
       " '__doc__',\n",
       " '__eq__',\n",
       " '__format__',\n",
       " '__ge__',\n",
       " '__getattribute__',\n",
       " '__getitem__',\n",
       " '__gt__',\n",
       " '__hash__',\n",
       " '__init__',\n",
       " '__init_subclass__',\n",
       " '__ior__',\n",
       " '__iter__',\n",
       " '__le__',\n",
       " '__len__',\n",
       " '__lt__',\n",
       " '__ne__',\n",
       " '__new__',\n",
       " '__or__',\n",
       " '__reduce__',\n",
       " '__reduce_ex__',\n",
       " '__repr__',\n",
       " '__reversed__',\n",
       " '__ror__',\n",
       " '__setattr__',\n",
       " '__setitem__',\n",
       " '__sizeof__',\n",
       " '__str__',\n",
       " '__subclasshook__',\n",
       " 'clear',\n",
       " 'copy',\n",
       " 'fromkeys',\n",
       " 'get',\n",
       " 'items',\n",
       " 'keys',\n",
       " 'pop',\n",
       " 'popitem',\n",
       " 'setdefault',\n",
       " 'update',\n",
       " 'values']"
      ]
     },
     "execution_count": 21,
     "metadata": {},
     "output_type": "execute_result"
    }
   ],
   "source": [
    "#dictionary class magic funtions\n",
    "dir(dict)"
   ]
  },
  {
   "cell_type": "code",
   "execution_count": 23,
   "id": "21f9fa36-5786-4e22-a576-a1b4474e48e4",
   "metadata": {},
   "outputs": [
    {
     "data": {
      "text/plain": [
       "['__add__',\n",
       " '__class__',\n",
       " '__class_getitem__',\n",
       " '__contains__',\n",
       " '__delattr__',\n",
       " '__dir__',\n",
       " '__doc__',\n",
       " '__eq__',\n",
       " '__format__',\n",
       " '__ge__',\n",
       " '__getattribute__',\n",
       " '__getitem__',\n",
       " '__getnewargs__',\n",
       " '__gt__',\n",
       " '__hash__',\n",
       " '__init__',\n",
       " '__init_subclass__',\n",
       " '__iter__',\n",
       " '__le__',\n",
       " '__len__',\n",
       " '__lt__',\n",
       " '__mul__',\n",
       " '__ne__',\n",
       " '__new__',\n",
       " '__reduce__',\n",
       " '__reduce_ex__',\n",
       " '__repr__',\n",
       " '__rmul__',\n",
       " '__setattr__',\n",
       " '__sizeof__',\n",
       " '__str__',\n",
       " '__subclasshook__',\n",
       " 'count',\n",
       " 'index']"
      ]
     },
     "execution_count": 23,
     "metadata": {},
     "output_type": "execute_result"
    }
   ],
   "source": [
    "#tuple class magic funtions , similarly we have many other dunder methods\n",
    "dir(tuple)"
   ]
  },
  {
   "cell_type": "code",
   "execution_count": null,
   "id": "6aa35dba-961a-434f-bfe9-b6620d19c5b1",
   "metadata": {},
   "outputs": [],
   "source": []
  }
 ],
 "metadata": {
  "kernelspec": {
   "display_name": "Python 3 (ipykernel)",
   "language": "python",
   "name": "python3"
  },
  "language_info": {
   "codemirror_mode": {
    "name": "ipython",
    "version": 3
   },
   "file_extension": ".py",
   "mimetype": "text/x-python",
   "name": "python",
   "nbconvert_exporter": "python",
   "pygments_lexer": "ipython3",
   "version": "3.10.8"
  }
 },
 "nbformat": 4,
 "nbformat_minor": 5
}
