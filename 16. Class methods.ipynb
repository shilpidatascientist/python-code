{
 "cells": [
  {
   "cell_type": "markdown",
   "id": "023004ac-9272-44c1-9bdb-8a354dcc3c51",
   "metadata": {},
   "source": [
    "Class Methods:\n",
    "is an inbuilt decorator and cls is binding class method to the class.It overloads init method.It occupies memory by craeting instances of the method with the help of ponject."
   ]
  },
  {
   "cell_type": "code",
   "execution_count": 6,
   "id": "aa7d59a9-2068-429f-80dd-51a4c612c523",
   "metadata": {},
   "outputs": [],
   "source": [
    "class pwskills:\n",
    "    def __init__(self,name,email):\n",
    "        \n",
    "        self.name = name\n",
    "        self.email = email\n",
    "        \n",
    "    def student_detail(self):\n",
    "        print(self.name,self.email)"
   ]
  },
  {
   "cell_type": "code",
   "execution_count": 7,
   "id": "7bc1c7da-72ac-468c-8434-e972b3c40052",
   "metadata": {},
   "outputs": [],
   "source": [
    "pw = pwskills(\"shilpi\",\"shilpi.agrawal@gmail.com\")"
   ]
  },
  {
   "cell_type": "code",
   "execution_count": 8,
   "id": "eeb5d27d-1569-456a-9df9-43c99b057a69",
   "metadata": {},
   "outputs": [
    {
     "data": {
      "text/plain": [
       "'shilpi'"
      ]
     },
     "execution_count": 8,
     "metadata": {},
     "output_type": "execute_result"
    }
   ],
   "source": [
    "pw.name"
   ]
  },
  {
   "cell_type": "code",
   "execution_count": 9,
   "id": "98797d6a-6497-446e-97a1-19fc37b38c02",
   "metadata": {},
   "outputs": [
    {
     "data": {
      "text/plain": [
       "'shilpi.agrawal@gmail.com'"
      ]
     },
     "execution_count": 9,
     "metadata": {},
     "output_type": "execute_result"
    }
   ],
   "source": [
    "pw.email"
   ]
  },
  {
   "cell_type": "code",
   "execution_count": 11,
   "id": "afcd9927-b82f-44eb-ad07-4c819b4d9a48",
   "metadata": {},
   "outputs": [
    {
     "name": "stdout",
     "output_type": "stream",
     "text": [
      "shilpi shilpi.agrawal@gmail.com\n"
     ]
    }
   ],
   "source": [
    "pw.student_detail()"
   ]
  },
  {
   "cell_type": "markdown",
   "id": "869796aa-91de-4010-9752-166ed4ca3e00",
   "metadata": {},
   "source": [
    "Function Overloading"
   ]
  },
  {
   "cell_type": "code",
   "execution_count": 28,
   "id": "304acbb7-a8b2-4052-98a8-bc9d4127b205",
   "metadata": {},
   "outputs": [],
   "source": [
    "class pwskills1:\n",
    "    def __init__(self,name,email):\n",
    "        \n",
    "        self.name = name\n",
    "        self.email = email\n",
    "#classmethod is an inbuilt decorator and cls is binding class method to the class   \n",
    "    @classmethod\n",
    "    def details(cls, name1, email1):\n",
    "        return cls(name1,email1)\n",
    "    def student_detail(self):\n",
    "        print(self.name,self.email)"
   ]
  },
  {
   "cell_type": "code",
   "execution_count": 39,
   "id": "11837aae-6728-486b-beea-c33a91bd4712",
   "metadata": {},
   "outputs": [],
   "source": [
    "pw1 = pwskills1.details(\"mohan\",\"mohan@gmail.com\")\n",
    "#we can use class to call class method,this internally passes the data to the class"
   ]
  },
  {
   "cell_type": "code",
   "execution_count": 30,
   "id": "f7a60b55-6207-4049-bca0-40e1d9327761",
   "metadata": {},
   "outputs": [
    {
     "data": {
      "text/plain": [
       "'mohan@gmail.com'"
      ]
     },
     "execution_count": 30,
     "metadata": {},
     "output_type": "execute_result"
    }
   ],
   "source": [
    "pw1.email"
   ]
  },
  {
   "cell_type": "code",
   "execution_count": 31,
   "id": "ce64633c-9ddc-40a9-99bd-880faea0878e",
   "metadata": {},
   "outputs": [
    {
     "name": "stdout",
     "output_type": "stream",
     "text": [
      "mohan mohan@gmail.com\n"
     ]
    }
   ],
   "source": [
    "pw1.student_detail()"
   ]
  },
  {
   "cell_type": "code",
   "execution_count": 36,
   "id": "b93cf106-40af-4d43-9df9-7efa851b14d4",
   "metadata": {},
   "outputs": [],
   "source": [
    "class pwskills2:\n",
    "    mobile_num = 987243646\n",
    "#constructor\n",
    "    def __init__(self,name,email):\n",
    "        \n",
    "        self.name = name\n",
    "        self.email = email\n",
    "#classmethod is an inbuilt decorator and cls is binding deatils() to the class pwskills     \n",
    "    @classmethod\n",
    "    def details(cls, name1, email1):\n",
    "        return cls(name1,email1)\n",
    "#instance method\n",
    "    def student_detail(self):\n",
    "        print(self.name,self.email,pwskills2.mobile_num)"
   ]
  },
  {
   "cell_type": "code",
   "execution_count": 35,
   "id": "b6a9c074-b438-45dd-aaf1-18c07b1631eb",
   "metadata": {},
   "outputs": [
    {
     "data": {
      "text/plain": [
       "987243646"
      ]
     },
     "execution_count": 35,
     "metadata": {},
     "output_type": "execute_result"
    }
   ],
   "source": [
    "pwskills2.mobile_num\n",
    "#we dont need an object to access class variable, directly access class variable"
   ]
  },
  {
   "cell_type": "code",
   "execution_count": 40,
   "id": "37fd84a9-649f-47f0-ae86-d93ba4aaf1b5",
   "metadata": {},
   "outputs": [],
   "source": [
    "pw2 = pwskills2.details(\"shilps\",\"shilpi@gmail.com\")"
   ]
  },
  {
   "cell_type": "code",
   "execution_count": 42,
   "id": "ca401716-a8f7-495d-854d-68cf1e39dba3",
   "metadata": {},
   "outputs": [
    {
     "name": "stdout",
     "output_type": "stream",
     "text": [
      "shilps shilpi@gmail.com 987243646\n"
     ]
    }
   ],
   "source": [
    "pw2.student_detail()\n",
    "#this we acessing it using a class method and not an object.We can do it both ways"
   ]
  },
  {
   "cell_type": "code",
   "execution_count": 56,
   "id": "1b8adcd8-8dca-4801-8340-c30436d76537",
   "metadata": {},
   "outputs": [],
   "source": [
    "class pwskills3:\n",
    "    mobile_num = 987243646\n",
    "#constructor\n",
    "    def __init__(self,name,email):\n",
    "        \n",
    "        self.name = name\n",
    "        self.email = email\n",
    "    @classmethod\n",
    "    def change_method(cls,mobile):\n",
    "        pwskills2.mobile_num = mobile\n",
    "#classmethod is an inbuilt decorator and cls is binding deatils() to the class pwskills     \n",
    "    @classmethod\n",
    "    def details(cls, name1, email1):\n",
    "        return cls(name1,email1)\n",
    "#instance method\n",
    "    def student_detail(self):\n",
    "        print(self.name,self.email,pwskills2.mobile_num)"
   ]
  },
  {
   "cell_type": "code",
   "execution_count": 57,
   "id": "9361eb2e-62b8-444b-a098-0d10fe6ee9df",
   "metadata": {},
   "outputs": [
    {
     "data": {
      "text/plain": [
       "987243646"
      ]
     },
     "execution_count": 57,
     "metadata": {},
     "output_type": "execute_result"
    }
   ],
   "source": [
    "pwskills3.mobile_num"
   ]
  },
  {
   "cell_type": "code",
   "execution_count": 58,
   "id": "86d464e0-5b3b-4acd-98f1-7451c51bfae0",
   "metadata": {},
   "outputs": [],
   "source": [
    "pwskills3.change_method(865645678)"
   ]
  },
  {
   "cell_type": "code",
   "execution_count": 59,
   "id": "d881b72c-628a-46de-8428-900f6d9593c3",
   "metadata": {},
   "outputs": [
    {
     "data": {
      "text/plain": [
       "987243646"
      ]
     },
     "execution_count": 59,
     "metadata": {},
     "output_type": "execute_result"
    }
   ],
   "source": [
    "pwskills3.mobile_num"
   ]
  },
  {
   "cell_type": "code",
   "execution_count": 66,
   "id": "cf3681e1-c3a8-497f-917d-187867b025db",
   "metadata": {},
   "outputs": [],
   "source": [
    "class pwskills4:\n",
    "    mobile_num = 987243646\n",
    "#constructor\n",
    "    def __init__(self,name,email):\n",
    "        \n",
    "        self.name = name\n",
    "        self.email = email\n",
    "    @classmethod\n",
    "    def change_num(cls,mobile):\n",
    "        pwskills2.mobile_num = mobile\n",
    "#classmethod is an inbuilt decorator and cls is binding deatils() to the class pwskills     \n",
    "    @classmethod\n",
    "    def details(cls, name1, email1):\n",
    "        return cls(name1,email1)\n",
    "#instance method\n",
    "    def student_detail(self):\n",
    "        print(self.name,self.email,pwskills2.mobile_num)"
   ]
  },
  {
   "cell_type": "code",
   "execution_count": 61,
   "id": "62f72c3c-ff4a-4178-a554-d98f5fa014cf",
   "metadata": {},
   "outputs": [],
   "source": [
    "def course_details(cls,course_name ):\n",
    "    print(\"course details: \",course_name)"
   ]
  },
  {
   "cell_type": "markdown",
   "id": "7c28fbe3-9208-4255-8d72-e47511ae8911",
   "metadata": {},
   "source": [
    "Add the above function to the class in a dynamic way:"
   ]
  },
  {
   "cell_type": "code",
   "execution_count": 62,
   "id": "41cc4d77-a115-440e-b54f-5faef71972ab",
   "metadata": {},
   "outputs": [],
   "source": [
    "pwskills4.course_details = classmethod(course_details)\n",
    "#this way we can add external function to existing class"
   ]
  },
  {
   "cell_type": "code",
   "execution_count": 63,
   "id": "505fdc8c-10b4-47b6-a39d-bdeddeafd1c7",
   "metadata": {},
   "outputs": [
    {
     "name": "stdout",
     "output_type": "stream",
     "text": [
      "course details:  data science masters\n"
     ]
    }
   ],
   "source": [
    "pwskills4.course_details(\"data science masters\")"
   ]
  },
  {
   "cell_type": "code",
   "execution_count": 64,
   "id": "db9d456b-305c-4baf-a56b-561508a7db05",
   "metadata": {},
   "outputs": [],
   "source": [
    "pw4 = pwskills4(\"shilpi\",\"s@gmail.com\")"
   ]
  },
  {
   "cell_type": "code",
   "execution_count": 65,
   "id": "5572ad1a-afb2-407a-823b-e7c437fe3a7f",
   "metadata": {},
   "outputs": [
    {
     "name": "stdout",
     "output_type": "stream",
     "text": [
      "course details:  web dev\n"
     ]
    }
   ],
   "source": [
    "pw4.course_details(\"web dev\")"
   ]
  },
  {
   "cell_type": "markdown",
   "id": "c7593211-477b-4702-bdb0-9de907f5a9d9",
   "metadata": {},
   "source": [
    "Delete a function from the class"
   ]
  },
  {
   "cell_type": "code",
   "execution_count": 67,
   "id": "46b41f6e-c537-478c-a94f-2f1f0c111567",
   "metadata": {},
   "outputs": [],
   "source": [
    "del pwskills4.change_num"
   ]
  },
  {
   "cell_type": "code",
   "execution_count": 68,
   "id": "da5e3fb1-c16e-49bd-b7a0-8f054e3ab6fe",
   "metadata": {},
   "outputs": [],
   "source": [
    "#we can delete var/function using del attribute function\n",
    "delattr(pwskills4,\"details\")"
   ]
  },
  {
   "cell_type": "code",
   "execution_count": 69,
   "id": "988f90bd-a3ab-458d-8201-13f4275ef4c8",
   "metadata": {},
   "outputs": [],
   "source": [
    "delattr(pwskills4,\"mobile_num\")"
   ]
  },
  {
   "cell_type": "code",
   "execution_count": 72,
   "id": "19cd8f18-fc16-4442-b9cf-34ab5dfc2403",
   "metadata": {},
   "outputs": [],
   "source": [
    "delattr(pwskills4,\"student_detail\")"
   ]
  },
  {
   "cell_type": "code",
   "execution_count": null,
   "id": "77167eb6-4209-498e-9d75-6e00ba3fe4bc",
   "metadata": {},
   "outputs": [],
   "source": []
  }
 ],
 "metadata": {
  "kernelspec": {
   "display_name": "Python 3 (ipykernel)",
   "language": "python",
   "name": "python3"
  },
  "language_info": {
   "codemirror_mode": {
    "name": "ipython",
    "version": 3
   },
   "file_extension": ".py",
   "mimetype": "text/x-python",
   "name": "python",
   "nbconvert_exporter": "python",
   "pygments_lexer": "ipython3",
   "version": "3.10.8"
  }
 },
 "nbformat": 4,
 "nbformat_minor": 5
}
