{
 "cells": [
  {
   "cell_type": "markdown",
   "id": "f5f22e88-9ee8-4f5d-a84a-b999c46413b7",
   "metadata": {},
   "source": [
    "Static method is available to all the objects of the class,and a different instance for every object is not created.It saves memory."
   ]
  },
  {
   "cell_type": "code",
   "execution_count": 2,
   "id": "ebbc48eb-9b59-4e59-bc7a-a617efdc9ea9",
   "metadata": {},
   "outputs": [],
   "source": [
    "class pwskills:\n",
    "    def student_details(self,name,mail_id,number):\n",
    "        print(name,mail_id,number)"
   ]
  },
  {
   "cell_type": "code",
   "execution_count": 4,
   "id": "0439d8ff-ff03-4c02-a6b2-f52ae7bfb428",
   "metadata": {},
   "outputs": [],
   "source": [
    "pw = pwskills()"
   ]
  },
  {
   "cell_type": "code",
   "execution_count": 5,
   "id": "0db708d5-d02c-4c72-859a-4c61bea464b8",
   "metadata": {},
   "outputs": [
    {
     "name": "stdout",
     "output_type": "stream",
     "text": [
      "shilpi shilpi@gmail.com 1234\n"
     ]
    }
   ],
   "source": [
    "pw.student_details(\"shilpi\",\"shilpi@gmail.com\",1234)"
   ]
  },
  {
   "cell_type": "code",
   "execution_count": 2,
   "id": "58880d10-04b7-4565-82ea-cd05e0cb5d64",
   "metadata": {},
   "outputs": [],
   "source": [
    "#create a function independent of objects\n",
    "class pwskills1:\n",
    "    def student_details(self,name,mail_id,number):\n",
    "        print(name,mail_id,number)\n",
    "        \n",
    "    @staticmethod\n",
    "    def mentor_class(list_mentor):\n",
    "        print(list_mentor)\n",
    "        \n",
    "    def mentor(self,mentor_list):\n",
    "        print(mentor_list)"
   ]
  },
  {
   "cell_type": "code",
   "execution_count": 3,
   "id": "b4253146-cecc-44f9-ba0d-32b7bdee5e54",
   "metadata": {},
   "outputs": [],
   "source": [
    "pw1 = pwskills1()"
   ]
  },
  {
   "cell_type": "code",
   "execution_count": 4,
   "id": "89c5638f-0450-491d-b0f9-b0222e8f90ae",
   "metadata": {},
   "outputs": [
    {
     "name": "stdout",
     "output_type": "stream",
     "text": [
      "['krish', 'sudh']\n"
     ]
    }
   ],
   "source": [
    "pw1.mentor([\"krish\",\"sudh\"])"
   ]
  },
  {
   "cell_type": "code",
   "execution_count": 5,
   "id": "8260204d-83bc-455e-b61a-d629ffc1a17d",
   "metadata": {},
   "outputs": [
    {
     "name": "stdout",
     "output_type": "stream",
     "text": [
      "['sudh', 'naik']\n"
     ]
    }
   ],
   "source": [
    "pw1.mentor_class([\"sudh\",\"naik\"])"
   ]
  },
  {
   "cell_type": "code",
   "execution_count": 6,
   "id": "f7026115-7a9c-4e6f-8082-9ef453e400f2",
   "metadata": {},
   "outputs": [
    {
     "name": "stdout",
     "output_type": "stream",
     "text": [
      "['sudh', 'krish']\n"
     ]
    }
   ],
   "source": [
    "pwskills1.mentor_class([\"sudh\",\"krish\"])"
   ]
  },
  {
   "cell_type": "markdown",
   "id": "59268734-596e-4013-9f4e-d5e499458da3",
   "metadata": {},
   "source": [
    "#access a static method inside instance method as below:"
   ]
  },
  {
   "cell_type": "code",
   "execution_count": 7,
   "id": "cc2f5d24-300a-4d65-9e58-0daaef99f5fb",
   "metadata": {},
   "outputs": [],
   "source": [
    "class pwskills1:\n",
    "    def student_details(self,name,mail_id,number):\n",
    "        print(name,mail_id,number)\n",
    "        \n",
    "    @staticmethod\n",
    "    def mentor_class(list_mentor):\n",
    "        print(list_mentor)\n",
    "        \n",
    "    def mentor(self,mentor_list):\n",
    "        print(mentor_list)\n",
    "        self.mentor_class"
   ]
  },
  {
   "cell_type": "markdown",
   "id": "04504e0d-643c-4504-aeec-17529e78a65b",
   "metadata": {},
   "source": [
    "#access a static method inside a class method and inside another static method as below:"
   ]
  },
  {
   "cell_type": "code",
   "execution_count": 8,
   "id": "96fbe925-3963-491e-8c5b-48e037c665be",
   "metadata": {},
   "outputs": [],
   "source": [
    "class pwskills2:\n",
    "    def student_details(self,name,mail_id,number):\n",
    "        print(name,mail_id,number)\n",
    "    \n",
    "    @staticmethod\n",
    "    def mentor_mail_id(mail_id):\n",
    "        print(mail_id)\n",
    "        \n",
    "    @staticmethod\n",
    "    def mentor_class(list_mentor):\n",
    "        print(list_mentor)\n",
    "        pwskills1.mentor_mail_id(\"shilpi@gmail.com\")\n",
    "    \n",
    "    @classmethod\n",
    "    def class_name(cls,class_name):\n",
    "        cls.mentor_class([\"sudh\",\"krish\"])\n",
    "        \n",
    "    def mentor(self,mentor_list):\n",
    "        print(mentor_list)\n",
    "        self.mentor_class"
   ]
  },
  {
   "cell_type": "code",
   "execution_count": 9,
   "id": "d56578fe-60d4-4b25-9419-f535b94da0c4",
   "metadata": {},
   "outputs": [],
   "source": [
    "pw2 = pwskills2()"
   ]
  },
  {
   "cell_type": "code",
   "execution_count": 10,
   "id": "ea5bdb83-df89-46c5-adbd-44b937e59b41",
   "metadata": {},
   "outputs": [
    {
     "name": "stdout",
     "output_type": "stream",
     "text": [
      "mohan mojhan@gmail.com 123\n"
     ]
    }
   ],
   "source": [
    "pw2.student_details(\"mohan\",\"mojhan@gmail.com\",123)"
   ]
  },
  {
   "cell_type": "code",
   "execution_count": 11,
   "id": "72d4521f-12bd-4631-873c-0500163b85ba",
   "metadata": {},
   "outputs": [
    {
     "name": "stdout",
     "output_type": "stream",
     "text": [
      "sohan@gmail.com\n"
     ]
    }
   ],
   "source": [
    "pw2.mentor_mail_id(\"sohan@gmail.com\")"
   ]
  },
  {
   "cell_type": "code",
   "execution_count": 12,
   "id": "15fd6f9a-582c-4381-80b6-f584dabb4f72",
   "metadata": {},
   "outputs": [
    {
     "name": "stdout",
     "output_type": "stream",
     "text": [
      "['sudh', 'krish']\n",
      "shilpi@gmail.com\n"
     ]
    }
   ],
   "source": [
    "pw2.class_name(\"data science class\")"
   ]
  },
  {
   "cell_type": "code",
   "execution_count": 14,
   "id": "d721f017-c26e-4750-96c4-4d5d26e74b24",
   "metadata": {},
   "outputs": [
    {
     "name": "stdout",
     "output_type": "stream",
     "text": [
      "['sohan@gmail.com', 'mohan@gmail.com']\n"
     ]
    }
   ],
   "source": [
    "pwskills2.mentor_mail_id([\"sohan@gmail.com\",\"mohan@gmail.com\"])"
   ]
  },
  {
   "cell_type": "code",
   "execution_count": null,
   "id": "d4733cfb-8ac9-4cb3-a1f9-2bc8a7f6cfe8",
   "metadata": {},
   "outputs": [],
   "source": []
  }
 ],
 "metadata": {
  "kernelspec": {
   "display_name": "Python 3 (ipykernel)",
   "language": "python",
   "name": "python3"
  },
  "language_info": {
   "codemirror_mode": {
    "name": "ipython",
    "version": 3
   },
   "file_extension": ".py",
   "mimetype": "text/x-python",
   "name": "python",
   "nbconvert_exporter": "python",
   "pygments_lexer": "ipython3",
   "version": "3.10.8"
  }
 },
 "nbformat": 4,
 "nbformat_minor": 5
}
