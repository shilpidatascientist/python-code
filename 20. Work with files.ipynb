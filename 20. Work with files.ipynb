{
 "cells": [
  {
   "cell_type": "markdown",
   "id": "2dcf4273-0eda-4054-b6c7-bf0d7c24037b",
   "metadata": {},
   "source": [
    "Working with files\n",
    "Use pwd, to know the location of the file\n",
    "Use ls, to know the list of the files available in the current ditrectory"
   ]
  },
  {
   "cell_type": "code",
   "execution_count": 23,
   "id": "c084038f-8b04-48b4-be2c-32af7b323812",
   "metadata": {},
   "outputs": [],
   "source": [
    "f = open(\"test.txt\",'w')"
   ]
  },
  {
   "cell_type": "code",
   "execution_count": 24,
   "id": "e4745760-c66f-4114-aa09-24782d75c2ee",
   "metadata": {},
   "outputs": [
    {
     "data": {
      "text/plain": [
       "'/home/jovyan/work'"
      ]
     },
     "execution_count": 24,
     "metadata": {},
     "output_type": "execute_result"
    }
   ],
   "source": [
    "pwd"
   ]
  },
  {
   "cell_type": "code",
   "execution_count": 25,
   "id": "428524c3-fc3a-45de-9303-9fb551297a9b",
   "metadata": {},
   "outputs": [
    {
     "name": "stdout",
     "output_type": "stream",
     "text": [
      " 2Feb.ipynb                        'Map Reduce Filter.ipynb'\n",
      " 3Feb.ipynb                         OOPs.ipynb\n",
      "'Basics of python & loops.ipynb'    Polymorphism.ipynb\n",
      "'Class methods.ipynb'              'Property decorators.ipynb'\n",
      " Decorators.ipynb                   README.md\n",
      " Dictionary.ipynb                   sample-code.ipynb\n",
      " Encapsulation.ipynb                Set.ipynb\n",
      " Function.ipynb                    'Static method.ipynb'\n",
      "'Generator&Lambda Function.ipynb'   Strings.ipynb\n",
      " Inheritance.ipynb                  test.txt\n",
      " List.ipynb                         Tuple.ipynb\n",
      " LogicalOperators.ipynb             Untitled2.ipynb\n",
      "'Magic or Dunder method.ipynb'     'Work with files.ipynb'\n"
     ]
    }
   ],
   "source": [
    "ls"
   ]
  },
  {
   "cell_type": "code",
   "execution_count": 26,
   "id": "cfc99b63-8e6f-45e5-8640-a524386b2f53",
   "metadata": {},
   "outputs": [
    {
     "data": {
      "text/plain": [
       "16"
      ]
     },
     "execution_count": 26,
     "metadata": {},
     "output_type": "execute_result"
    }
   ],
   "source": [
    "f.write(\"this is my line \")"
   ]
  },
  {
   "cell_type": "code",
   "execution_count": 27,
   "id": "f2228087-383b-40f9-9cb4-6705787b361f",
   "metadata": {},
   "outputs": [],
   "source": [
    "f.close()"
   ]
  },
  {
   "cell_type": "markdown",
   "id": "a53a6220-c825-4df7-a486-5ab672d69f9b",
   "metadata": {},
   "source": [
    "If we need to add new line in existing files, then use append"
   ]
  },
  {
   "cell_type": "code",
   "execution_count": 28,
   "id": "f0655bdc-8760-4ae8-93df-9e786b641219",
   "metadata": {},
   "outputs": [],
   "source": [
    "f = open(\"test.txt\",'a')"
   ]
  },
  {
   "cell_type": "code",
   "execution_count": 29,
   "id": "b26cd599-9ff1-4e64-b505-fe292ea2ee10",
   "metadata": {},
   "outputs": [
    {
     "data": {
      "text/plain": [
       "22"
      ]
     },
     "execution_count": 29,
     "metadata": {},
     "output_type": "execute_result"
    }
   ],
   "source": [
    "f.write(\"this is my second line\")"
   ]
  },
  {
   "cell_type": "code",
   "execution_count": 30,
   "id": "23fee975-3b58-467b-8655-4c699e87ee27",
   "metadata": {},
   "outputs": [],
   "source": [
    "f.close()"
   ]
  },
  {
   "cell_type": "markdown",
   "id": "f46371d0-4b33-4543-b396-2cc8c6c97b12",
   "metadata": {},
   "source": [
    "Read operation"
   ]
  },
  {
   "cell_type": "code",
   "execution_count": 31,
   "id": "34083794-4b87-41de-acd2-7caa2139659d",
   "metadata": {},
   "outputs": [],
   "source": [
    "data = open(\"test.txt\",\"r\")"
   ]
  },
  {
   "cell_type": "code",
   "execution_count": 32,
   "id": "356d8b8a-48e1-4cda-b0a7-3abfe59eb394",
   "metadata": {},
   "outputs": [
    {
     "data": {
      "text/plain": [
       "'this is my line this is my second line'"
      ]
     },
     "execution_count": 32,
     "metadata": {},
     "output_type": "execute_result"
    }
   ],
   "source": [
    "data.read()"
   ]
  },
  {
   "cell_type": "code",
   "execution_count": 33,
   "id": "574c8af8-1279-4f58-bc2c-d35d73646437",
   "metadata": {},
   "outputs": [
    {
     "data": {
      "text/plain": [
       "''"
      ]
     },
     "execution_count": 33,
     "metadata": {},
     "output_type": "execute_result"
    }
   ],
   "source": [
    "data.read()\n",
    "#if we execute read operation 2nd time, it read nothing because the pointer is at the last position.\n",
    "#To reset the pointer position we need to use seek()"
   ]
  },
  {
   "cell_type": "code",
   "execution_count": 34,
   "id": "2263acc5-4396-4a56-8340-4dd320088e0f",
   "metadata": {},
   "outputs": [
    {
     "data": {
      "text/plain": [
       "0"
      ]
     },
     "execution_count": 34,
     "metadata": {},
     "output_type": "execute_result"
    }
   ],
   "source": [
    "data.seek(0)"
   ]
  },
  {
   "cell_type": "code",
   "execution_count": 35,
   "id": "842424d4-5cc4-45b6-99e3-17e48df9065f",
   "metadata": {},
   "outputs": [
    {
     "data": {
      "text/plain": [
       "'this is my line this is my second line'"
      ]
     },
     "execution_count": 35,
     "metadata": {},
     "output_type": "execute_result"
    }
   ],
   "source": [
    "data.read()"
   ]
  },
  {
   "cell_type": "code",
   "execution_count": 36,
   "id": "0e63b014-ed83-4c31-af38-f54d3fffdba0",
   "metadata": {},
   "outputs": [
    {
     "data": {
      "text/plain": [
       "5"
      ]
     },
     "execution_count": 36,
     "metadata": {},
     "output_type": "execute_result"
    }
   ],
   "source": [
    "data.seek(5)"
   ]
  },
  {
   "cell_type": "code",
   "execution_count": 37,
   "id": "cc41f229-a6d6-4935-9a95-6121081ea837",
   "metadata": {},
   "outputs": [
    {
     "data": {
      "text/plain": [
       "'is my line this is my second line'"
      ]
     },
     "execution_count": 37,
     "metadata": {},
     "output_type": "execute_result"
    }
   ],
   "source": [
    "data.read()"
   ]
  },
  {
   "cell_type": "code",
   "execution_count": 39,
   "id": "aed6d359-7249-4615-80d8-d240831d8e43",
   "metadata": {},
   "outputs": [],
   "source": [
    "data1 = open(\"test.txt\",\"r\")"
   ]
  },
  {
   "cell_type": "code",
   "execution_count": 41,
   "id": "5a5f0889-db0e-4485-b8b7-584815e64fb1",
   "metadata": {},
   "outputs": [
    {
     "name": "stdout",
     "output_type": "stream",
     "text": [
      "this is my line this is my second line\n"
     ]
    }
   ],
   "source": [
    "for i in data1:\n",
    "    print (i)"
   ]
  },
  {
   "cell_type": "markdown",
   "id": "ea581b33-7c8d-40a2-9182-6297591415ed",
   "metadata": {},
   "source": [
    "To know the file size"
   ]
  },
  {
   "cell_type": "code",
   "execution_count": 42,
   "id": "e311a718-bb36-4303-8153-e7d2fc494eda",
   "metadata": {},
   "outputs": [
    {
     "data": {
      "text/plain": [
       "38"
      ]
     },
     "execution_count": 42,
     "metadata": {},
     "output_type": "execute_result"
    }
   ],
   "source": [
    "import os\n",
    "os.path.getsize(\"test.txt\")"
   ]
  },
  {
   "cell_type": "code",
   "execution_count": 43,
   "id": "f853618b-2480-4586-a6c3-9dc41f6263ac",
   "metadata": {},
   "outputs": [],
   "source": [
    "import shutil"
   ]
  },
  {
   "cell_type": "code",
   "execution_count": 44,
   "id": "cb95de5e-a0d6-4d80-b2f1-b9c7a5f8d6a4",
   "metadata": {},
   "outputs": [
    {
     "data": {
      "text/plain": [
       "'newtest.txt'"
      ]
     },
     "execution_count": 44,
     "metadata": {},
     "output_type": "execute_result"
    }
   ],
   "source": [
    "shutil.copy(\"test.txt\",\"newtest.txt\")"
   ]
  },
  {
   "cell_type": "code",
   "execution_count": 45,
   "id": "f52c7c25-9db7-488a-891a-99f6559df0a2",
   "metadata": {},
   "outputs": [],
   "source": [
    "os.remove(\"test.txt\")"
   ]
  },
  {
   "cell_type": "markdown",
   "id": "751f2f9a-5b9f-426c-9795-d8e48311cf5e",
   "metadata": {},
   "source": [
    "Another way of working with files"
   ]
  },
  {
   "cell_type": "code",
   "execution_count": 47,
   "id": "2fe3d206-2706-4fa4-b05b-dd88da8e15ec",
   "metadata": {},
   "outputs": [
    {
     "name": "stdout",
     "output_type": "stream",
     "text": [
      "this is my line this is my second line\n"
     ]
    }
   ],
   "source": [
    "with open(\"newtest.txt\",\"r\") as file1:\n",
    "    print(file1.read())"
   ]
  },
  {
   "cell_type": "markdown",
   "id": "6c5a2ab3-58a4-411a-a7bf-837128fd6d6a",
   "metadata": {},
   "source": [
    "Rename file"
   ]
  },
  {
   "cell_type": "code",
   "execution_count": 48,
   "id": "f1f956ef-d0b2-4ee8-8faf-50b101af1d4d",
   "metadata": {},
   "outputs": [],
   "source": [
    "os.rename(\"newtest.txt\",\"test1.txt\")\n",
    "#old name and then new name"
   ]
  },
  {
   "cell_type": "code",
   "execution_count": null,
   "id": "627014b1-5e50-4f1c-a25a-8fdbd8acff24",
   "metadata": {},
   "outputs": [],
   "source": []
  }
 ],
 "metadata": {
  "kernelspec": {
   "display_name": "Python 3 (ipykernel)",
   "language": "python",
   "name": "python3"
  },
  "language_info": {
   "codemirror_mode": {
    "name": "ipython",
    "version": 3
   },
   "file_extension": ".py",
   "mimetype": "text/x-python",
   "name": "python",
   "nbconvert_exporter": "python",
   "pygments_lexer": "ipython3",
   "version": "3.10.8"
  }
 },
 "nbformat": 4,
 "nbformat_minor": 5
}
