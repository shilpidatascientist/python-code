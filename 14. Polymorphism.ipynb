{
 "cells": [
  {
   "cell_type": "markdown",
   "id": "e629edfb-fab2-4115-b5e4-9130974df984",
   "metadata": {},
   "source": [
    "Polymorphism: when it behaves differently like in below test function , it is performing add operation, the other place it is performing concatenation operation."
   ]
  },
  {
   "cell_type": "code",
   "execution_count": 1,
   "id": "81d2a3b5-e699-406f-86d3-29029af82e8b",
   "metadata": {},
   "outputs": [],
   "source": [
    "def test(a,b):\n",
    "    return a+b"
   ]
  },
  {
   "cell_type": "code",
   "execution_count": 2,
   "id": "a98db12b-09d9-4e37-bd20-d10b101698e9",
   "metadata": {},
   "outputs": [
    {
     "data": {
      "text/plain": [
       "9"
      ]
     },
     "execution_count": 2,
     "metadata": {},
     "output_type": "execute_result"
    }
   ],
   "source": [
    "test(4,5)"
   ]
  },
  {
   "cell_type": "code",
   "execution_count": 4,
   "id": "3b88263d-4ead-4e91-a387-b90b8fffc05d",
   "metadata": {},
   "outputs": [
    {
     "data": {
      "text/plain": [
       "'Shilpi Agrawal'"
      ]
     },
     "execution_count": 4,
     "metadata": {},
     "output_type": "execute_result"
    }
   ],
   "source": [
    "test(\"Shilpi \",\"Agrawal\")"
   ]
  },
  {
   "cell_type": "markdown",
   "id": "cdd40ac0-8184-4343-b4d4-a2da1afb0a98",
   "metadata": {},
   "source": [
    "Next example is of a class polymorphism"
   ]
  },
  {
   "cell_type": "code",
   "execution_count": 6,
   "id": "a04eedb5-9570-42b5-be57-2e1a7380200d",
   "metadata": {},
   "outputs": [],
   "source": [
    "class data_science:\n",
    "    def syllabus(self):\n",
    "        print(\"this is my method for data science \")"
   ]
  },
  {
   "cell_type": "code",
   "execution_count": 7,
   "id": "dfbe797c-d46c-4470-af43-0ee239a9eb12",
   "metadata": {},
   "outputs": [],
   "source": [
    "class web_dev:\n",
    "    def syllabus(self):\n",
    "        print(\"this is my method for webdev \")"
   ]
  },
  {
   "cell_type": "code",
   "execution_count": 8,
   "id": "5758dbb6-f316-4d4d-8995-c7583fef402f",
   "metadata": {},
   "outputs": [],
   "source": [
    "def class_parcer(class_obj):\n",
    "    for i in class_obj:\n",
    "        i.syllabus()"
   ]
  },
  {
   "cell_type": "code",
   "execution_count": 11,
   "id": "796d3d78-0cc2-4109-a1de-98f3a03ceb42",
   "metadata": {},
   "outputs": [],
   "source": [
    "obj_data_science=data_science()\n",
    "#created object for data_science class"
   ]
  },
  {
   "cell_type": "code",
   "execution_count": 12,
   "id": "55decd94-086f-4826-8384-5af092d88ad4",
   "metadata": {},
   "outputs": [],
   "source": [
    "obj_web_dev=web_dev()\n",
    "#created object for web_dev class"
   ]
  },
  {
   "cell_type": "code",
   "execution_count": 14,
   "id": "8b2cd0af-168c-4893-9ea3-eabc6c0ed20f",
   "metadata": {},
   "outputs": [],
   "source": [
    "class_obj=[obj_data_science,obj_web_dev]\n",
    "#created a list with both the objects"
   ]
  },
  {
   "cell_type": "code",
   "execution_count": 15,
   "id": "77a93a67-c7d3-4128-8247-0e1eb7c5b255",
   "metadata": {},
   "outputs": [
    {
     "name": "stdout",
     "output_type": "stream",
     "text": [
      "this is my method for data science \n",
      "this is my method for webdev \n"
     ]
    }
   ],
   "source": [
    "class_parcer(class_obj)\n",
    "#this class behaves differently with different classes & function as per the objects passed"
   ]
  },
  {
   "cell_type": "code",
   "execution_count": null,
   "id": "1e8a2607-94c5-4df4-8dcf-c2d75b7ecd8b",
   "metadata": {},
   "outputs": [],
   "source": []
  },
  {
   "cell_type": "code",
   "execution_count": null,
   "id": "75684695-09a8-45a6-befc-c7b7a3941b37",
   "metadata": {},
   "outputs": [],
   "source": []
  }
 ],
 "metadata": {
  "kernelspec": {
   "display_name": "Python 3 (ipykernel)",
   "language": "python",
   "name": "python3"
  },
  "language_info": {
   "codemirror_mode": {
    "name": "ipython",
    "version": 3
   },
   "file_extension": ".py",
   "mimetype": "text/x-python",
   "name": "python",
   "nbconvert_exporter": "python",
   "pygments_lexer": "ipython3",
   "version": "3.10.8"
  }
 },
 "nbformat": 4,
 "nbformat_minor": 5
}
