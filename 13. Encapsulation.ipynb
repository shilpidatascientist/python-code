{
 "cells": [
  {
   "cell_type": "markdown",
   "id": "cc1f810b-37b3-46a5-a315-02fa3966c01e",
   "metadata": {},
   "source": [
    "By using encapsulation, we can ensure that the data attributes are protected from direct external access or modification. The only way to access or modify the data attributes is through the methods defined within the class. This can help maintain the integrity of the data and make the code more maintainable and secure.Encapsulation: It protects direct modification of any data inside a capsule"
   ]
  },
  {
   "cell_type": "code",
   "execution_count": 2,
   "id": "1beac535-5f40-4393-a106-6d3dac3be6de",
   "metadata": {},
   "outputs": [],
   "source": [
    "class test:\n",
    "   def __init__(self,a,b) :\n",
    "        self.a = a\n",
    "        self.b = b"
   ]
  },
  {
   "cell_type": "code",
   "execution_count": 3,
   "id": "9e425176-e275-42d7-8cf5-48d4d053e3eb",
   "metadata": {},
   "outputs": [],
   "source": [
    "t = test(45,56)"
   ]
  },
  {
   "cell_type": "code",
   "execution_count": 4,
   "id": "3e874e9e-c346-4acd-8385-b56092414d73",
   "metadata": {},
   "outputs": [
    {
     "data": {
      "text/plain": [
       "45"
      ]
     },
     "execution_count": 4,
     "metadata": {},
     "output_type": "execute_result"
    }
   ],
   "source": [
    "t.a"
   ]
  },
  {
   "cell_type": "code",
   "execution_count": 5,
   "id": "d483f1c9-9681-4115-90ab-6700326d93ef",
   "metadata": {},
   "outputs": [
    {
     "data": {
      "text/plain": [
       "56"
      ]
     },
     "execution_count": 5,
     "metadata": {},
     "output_type": "execute_result"
    }
   ],
   "source": [
    "t.b"
   ]
  },
  {
   "cell_type": "code",
   "execution_count": 6,
   "id": "d68975c0-f422-4b26-95a0-46a587b9f63f",
   "metadata": {},
   "outputs": [],
   "source": [
    "t.a = 216"
   ]
  },
  {
   "cell_type": "code",
   "execution_count": 7,
   "id": "50f0ed3a-c39b-40d1-9b72-f7e7e7ccd749",
   "metadata": {},
   "outputs": [
    {
     "data": {
      "text/plain": [
       "216"
      ]
     },
     "execution_count": 7,
     "metadata": {},
     "output_type": "execute_result"
    }
   ],
   "source": [
    "t.a"
   ]
  },
  {
   "cell_type": "code",
   "execution_count": null,
   "id": "8a24f090-d7a5-4326-b26a-eeb439ae0739",
   "metadata": {},
   "outputs": [],
   "source": []
  },
  {
   "cell_type": "code",
   "execution_count": 8,
   "id": "6f90ae1c-f7ea-46df-8cda-998695882416",
   "metadata": {},
   "outputs": [],
   "source": [
    "class car:\n",
    "    def __init__(self, year,make,model,speed):\n",
    "        self.__year = year\n",
    "        self.__make = make\n",
    "        self.__model = model\n",
    "        self.__speed = 0\n",
    "        \n",
    "    def set_speed(self, speed):\n",
    "        self.__speed = 0 if speed < 0 else speed\n",
    "    \n",
    "    def get_speed(self):\n",
    "        return self.__speed\n",
    "        \n",
    "# here underscore __ is just used to differentiate the variable name."
   ]
  },
  {
   "cell_type": "code",
   "execution_count": 9,
   "id": "d26ec8a8-4935-425f-bae3-adac01df4b0a",
   "metadata": {},
   "outputs": [],
   "source": [
    "obj_car = car(2023,\"toyota\",\"innova\",123)"
   ]
  },
  {
   "cell_type": "code",
   "execution_count": 10,
   "id": "516d398d-e358-452c-9801-7271f7b32989",
   "metadata": {},
   "outputs": [
    {
     "data": {
      "text/plain": [
       "0"
      ]
     },
     "execution_count": 10,
     "metadata": {},
     "output_type": "execute_result"
    }
   ],
   "source": [
    "obj_car._car__speed"
   ]
  },
  {
   "cell_type": "code",
   "execution_count": 14,
   "id": "a9e59fe7-9464-4dae-b17d-8565b23bcbf3",
   "metadata": {},
   "outputs": [
    {
     "data": {
      "text/plain": [
       "3452"
      ]
     },
     "execution_count": 14,
     "metadata": {},
     "output_type": "execute_result"
    }
   ],
   "source": [
    "obj_car.get_speed()"
   ]
  },
  {
   "cell_type": "code",
   "execution_count": 12,
   "id": "1c53d73f-8294-41e1-8bd0-04e8aa774815",
   "metadata": {},
   "outputs": [],
   "source": [
    "obj_car.set_speed(-120)"
   ]
  },
  {
   "cell_type": "code",
   "execution_count": 13,
   "id": "c5926581-b6ad-41fa-ba08-1925c8ea5379",
   "metadata": {},
   "outputs": [],
   "source": [
    "obj_car.set_speed(3452)"
   ]
  },
  {
   "cell_type": "code",
   "execution_count": 15,
   "id": "2edf77c9-bb09-459d-89cc-d427b7a2d55e",
   "metadata": {},
   "outputs": [],
   "source": [
    "#Another example of Polymorphism\n",
    "class bank_account:\n",
    "    def __init__(self,balance):\n",
    "        self.__balance = balance\n",
    "        \n",
    "    def deposit(self,amount):\n",
    "        self.__balance = self.__balance + amount\n",
    "    \n",
    "    def withdraw(self,amount):\n",
    "        if self.__balance >= amount:\n",
    "            self.__balance = self.__balance - amount\n",
    "            return True\n",
    "        else:\n",
    "            return False\n",
    "    def get_balance(self):\n",
    "        return self.__balance"
   ]
  },
  {
   "cell_type": "code",
   "execution_count": 17,
   "id": "65778f53-c04b-48a2-acb4-274beca18d13",
   "metadata": {},
   "outputs": [],
   "source": [
    "obj = bank_account(1000)"
   ]
  },
  {
   "cell_type": "code",
   "execution_count": 24,
   "id": "82d1d77f-72e6-4d46-887b-e2e86c753704",
   "metadata": {},
   "outputs": [
    {
     "data": {
      "text/plain": [
       "1000"
      ]
     },
     "execution_count": 24,
     "metadata": {},
     "output_type": "execute_result"
    }
   ],
   "source": [
    "obj.get_balance()"
   ]
  },
  {
   "cell_type": "code",
   "execution_count": 20,
   "id": "3a48d473-ddc3-4bc4-b632-784a61151f03",
   "metadata": {},
   "outputs": [],
   "source": [
    "obj.deposit(500)"
   ]
  },
  {
   "cell_type": "code",
   "execution_count": 23,
   "id": "37de85d2-12a8-4f3f-9270-b89bfc4df1e3",
   "metadata": {},
   "outputs": [
    {
     "data": {
      "text/plain": [
       "True"
      ]
     },
     "execution_count": 23,
     "metadata": {},
     "output_type": "execute_result"
    }
   ],
   "source": [
    "obj.withdraw(500)"
   ]
  },
  {
   "cell_type": "code",
   "execution_count": null,
   "id": "27c48a8d-0488-494b-b68c-9d284fcb9531",
   "metadata": {},
   "outputs": [],
   "source": []
  }
 ],
 "metadata": {
  "kernelspec": {
   "display_name": "Python 3 (ipykernel)",
   "language": "python",
   "name": "python3"
  },
  "language_info": {
   "codemirror_mode": {
    "name": "ipython",
    "version": 3
   },
   "file_extension": ".py",
   "mimetype": "text/x-python",
   "name": "python",
   "nbconvert_exporter": "python",
   "pygments_lexer": "ipython3",
   "version": "3.10.8"
  }
 },
 "nbformat": 4,
 "nbformat_minor": 5
}
