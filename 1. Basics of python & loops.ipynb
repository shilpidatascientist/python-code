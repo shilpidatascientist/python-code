{
 "cells": [
  {
   "cell_type": "code",
   "execution_count": 1,
   "id": "dc4fbc4b-0007-48d3-9880-c7793946b47e",
   "metadata": {},
   "outputs": [
    {
     "data": {
      "text/plain": [
       "False"
      ]
     },
     "execution_count": 1,
     "metadata": {},
     "output_type": "execute_result"
    }
   ],
   "source": [
    "bool(0)"
   ]
  },
  {
   "cell_type": "code",
   "execution_count": 2,
   "id": "31217a44-0b55-42e0-877f-46d87f26dbb0",
   "metadata": {},
   "outputs": [
    {
     "data": {
      "text/plain": [
       "True"
      ]
     },
     "execution_count": 2,
     "metadata": {},
     "output_type": "execute_result"
    }
   ],
   "source": [
    "bool(1)"
   ]
  },
  {
   "cell_type": "code",
   "execution_count": 3,
   "id": "07af91fa-34d8-4871-9971-4a171fdf0080",
   "metadata": {},
   "outputs": [
    {
     "data": {
      "text/plain": [
       "False"
      ]
     },
     "execution_count": 3,
     "metadata": {},
     "output_type": "execute_result"
    }
   ],
   "source": [
    "True and False"
   ]
  },
  {
   "cell_type": "code",
   "execution_count": 4,
   "id": "eac53bad-2ba4-4095-bc9d-825cabda39da",
   "metadata": {},
   "outputs": [
    {
     "data": {
      "text/plain": [
       "True"
      ]
     },
     "execution_count": 4,
     "metadata": {},
     "output_type": "execute_result"
    }
   ],
   "source": [
    "not False"
   ]
  },
  {
   "cell_type": "markdown",
   "id": "2e2f58f3-e607-430f-8e48-03ac8a7c4397",
   "metadata": {},
   "source": [
    "Python is dynamic typing language.During run time, compiler can understand the type of the variable"
   ]
  },
  {
   "cell_type": "code",
   "execution_count": 5,
   "id": "9989ba6d-0b2d-4ee8-ac1a-2cb8791d8142",
   "metadata": {},
   "outputs": [
    {
     "data": {
      "text/plain": [
       "True"
      ]
     },
     "execution_count": 5,
     "metadata": {},
     "output_type": "execute_result"
    }
   ],
   "source": [
    "bool(-1)"
   ]
  },
  {
   "cell_type": "markdown",
   "id": "894a0e49-cc2e-4b0d-82f6-0bd924a952a0",
   "metadata": {},
   "source": [
    "Four ways of writing print"
   ]
  },
  {
   "cell_type": "code",
   "execution_count": 1,
   "id": "d8c9ba50-233b-4743-93ff-27556a28d9e2",
   "metadata": {},
   "outputs": [
    {
     "name": "stdout",
     "output_type": "stream",
     "text": [
      "My age is  36\n"
     ]
    }
   ],
   "source": [
    "age=36\n",
    "print(\"My age is \",age)"
   ]
  },
  {
   "cell_type": "code",
   "execution_count": 2,
   "id": "9cce0c21-8c96-469a-b7a7-06099b38f630",
   "metadata": {},
   "outputs": [
    {
     "name": "stdout",
     "output_type": "stream",
     "text": [
      "My age is 36\n"
     ]
    }
   ],
   "source": [
    "print(f\"My age is {age}\")"
   ]
  },
  {
   "cell_type": "code",
   "execution_count": 3,
   "id": "18f0723a-6b00-4cee-b891-21112427c2c8",
   "metadata": {},
   "outputs": [
    {
     "name": "stdout",
     "output_type": "stream",
     "text": [
      "My age is 36\n"
     ]
    }
   ],
   "source": [
    "print(\"My age is {}\".format(age))"
   ]
  },
  {
   "cell_type": "code",
   "execution_count": 6,
   "id": "f82acf5b-27b8-4a5d-8924-cbd22efdb094",
   "metadata": {},
   "outputs": [
    {
     "name": "stdout",
     "output_type": "stream",
     "text": [
      "My name is Shilpi and age is 36\n"
     ]
    }
   ],
   "source": [
    "#PLACEHOLDER\n",
    "name=\"Shilpi\"\n",
    "print(\"My name is {firstname} and age is {firstage}\".format(firstage=age,firstname=name))     "
   ]
  },
  {
   "cell_type": "code",
   "execution_count": 4,
   "id": "e62cbbc1-3f72-47ca-9ca0-6786b731343c",
   "metadata": {},
   "outputs": [
    {
     "name": "stdin",
     "output_type": "stream",
     "text": [
      "Enter the product price 800\n"
     ]
    },
    {
     "name": "stdout",
     "output_type": "stream",
     "text": [
      "Your discount price is 560.0\n"
     ]
    }
   ],
   "source": [
    "#discount problem\n",
    "price = int(input(\"Enter the product price\"))\n",
    "if price > 1000:\n",
    "    print(\"Your discount price is {}\".format(0.8*price))\n",
    "else:\n",
    "    print(\"Your discount price is {}\".format(0.7*price))"
   ]
  },
  {
   "cell_type": "code",
   "execution_count": 7,
   "id": "8f39bace-942f-46fd-921e-c619f4d908cf",
   "metadata": {},
   "outputs": [
    {
     "name": "stdin",
     "output_type": "stream",
     "text": [
      "Enter a number:  1000\n"
     ]
    },
    {
     "name": "stdout",
     "output_type": "stream",
     "text": [
      "Go to Home Page\n"
     ]
    }
   ],
   "source": [
    "#Single statement suites\n",
    "val=int(input(\"Enter a number: \"))\n",
    "if (val <= 999):print(\"The number is less than equal to 999\")\n",
    "else:\n",
    "    print(\"Go to Home Page\")"
   ]
  },
  {
   "cell_type": "markdown",
   "id": "5730ee8a-fe36-4355-9e26-de58a552a34b",
   "metadata": {},
   "source": [
    "Loop Statements\n",
    "While , For, Nested loops\n",
    "Loop Control(break,continue,pass)"
   ]
  },
  {
   "cell_type": "code",
   "execution_count": 11,
   "id": "133650e5-2f44-4c21-b4c8-5310b526c5be",
   "metadata": {},
   "outputs": [
    {
     "name": "stdout",
     "output_type": "stream",
     "text": [
      "25\n",
      "26\n",
      "27\n",
      "28\n",
      "29\n",
      "30\n",
      "31\n",
      "32\n",
      "33\n",
      "34\n",
      "35\n",
      "36\n",
      "37\n",
      "38\n",
      "39\n",
      "40\n",
      "41\n",
      "42\n",
      "43\n",
      "44\n",
      "45\n",
      "46\n",
      "47\n",
      "48\n",
      "49\n",
      "50\n",
      "51\n",
      "52\n",
      "53\n",
      "54\n",
      "55\n",
      "56\n",
      "57\n",
      "58\n",
      "59\n",
      "60\n",
      "Its time to retirement\n"
     ]
    }
   ],
   "source": [
    "#while is continuous checking loop untill a condition is achieved that stops the loop\n",
    "joining_age=25\n",
    "while joining_age<=60:\n",
    "    print(joining_age)\n",
    "    joining_age=joining_age+1\n",
    "    \n",
    "else:\n",
    "    print(\"Its time to retirement\")"
   ]
  },
  {
   "cell_type": "code",
   "execution_count": 12,
   "id": "51f8d8da-d350-4bdd-808f-361ede6b039d",
   "metadata": {},
   "outputs": [
    {
     "name": "stdout",
     "output_type": "stream",
     "text": [
      "1000\n",
      "900\n",
      "800\n",
      "700\n",
      "600\n",
      "500\n",
      "400\n",
      "300\n",
      "200\n",
      "100\n",
      "No money in this ATM\n"
     ]
    }
   ],
   "source": [
    "#ATM machine with Rs.1000 only\n",
    "money=1000\n",
    "while money!=0:\n",
    "    print(money)\n",
    "    money=money-100\n",
    "else:\n",
    "    print(\"No money in this ATM\")"
   ]
  },
  {
   "cell_type": "code",
   "execution_count": 13,
   "id": "67794304-8fb9-4c87-bd03-51196a20e0d7",
   "metadata": {},
   "outputs": [],
   "source": [
    "#For loop:This works well with all the collections, used to iterate all the elements\n",
    "lst=['Shilpi',1,2,3,'apple']"
   ]
  },
  {
   "cell_type": "code",
   "execution_count": 16,
   "id": "fcfb3b57-a4c9-4a71-91a4-b65130df1cc8",
   "metadata": {},
   "outputs": [
    {
     "name": "stdout",
     "output_type": "stream",
     "text": [
      "Shilpi,1,2,3,apple,"
     ]
    }
   ],
   "source": [
    "for x in lst:\n",
    "    print(x,end=',')"
   ]
  },
  {
   "cell_type": "code",
   "execution_count": 17,
   "id": "52446014-c405-4bdd-92e4-96db2ac015d7",
   "metadata": {},
   "outputs": [
    {
     "name": "stdout",
     "output_type": "stream",
     "text": [
      "1\n",
      "3\n",
      "5\n",
      "7\n",
      "9\n"
     ]
    }
   ],
   "source": [
    "#Range\n",
    "for i in range(1,10,2):\n",
    "    print(i)"
   ]
  },
  {
   "cell_type": "code",
   "execution_count": 20,
   "id": "ff485a6c-82db-4be7-92eb-c8af7a991cae",
   "metadata": {},
   "outputs": [
    {
     "name": "stdout",
     "output_type": "stream",
     "text": [
      "*\n",
      "**\n",
      "***\n",
      "****\n",
      "*****\n",
      "******\n",
      "*******\n"
     ]
    }
   ],
   "source": [
    "##Nested Loops\n",
    "#\\r is to go to next line and move to the left side\n",
    "n=7\n",
    "for i in range(0,n):\n",
    "    for j in range(0,i+1):\n",
    "        print(\"*\",end=\"\")\n",
    "    print(\"\\r\")\n",
    "    "
   ]
  },
  {
   "cell_type": "code",
   "execution_count": 21,
   "id": "576ed0ed-8bea-4cfd-bfbf-6911ef5a2977",
   "metadata": {},
   "outputs": [],
   "source": [
    "#Loop Controls\n",
    "#Break and Continue and Pass\n",
    "fruit_lst=[\"Banana\",\"Mango\",\"Apple\",\"Cherry\",\"Papaya\"]"
   ]
  },
  {
   "cell_type": "code",
   "execution_count": 22,
   "id": "1a5c4593-823b-4e9b-bde4-38902521606d",
   "metadata": {},
   "outputs": [
    {
     "name": "stdout",
     "output_type": "stream",
     "text": [
      "Banana\n",
      "Mango\n",
      "The fruit is Apple\n"
     ]
    }
   ],
   "source": [
    "#In BREAK, it skip all the steps when condition is true\n",
    "for i in fruit_lst:\n",
    "    if i==\"Apple\":\n",
    "        print(\"The fruit is Apple\")\n",
    "        break\n",
    "    print(i)\n",
    "    "
   ]
  },
  {
   "cell_type": "code",
   "execution_count": 23,
   "id": "b8fde97b-121b-4ce7-bb1d-6ca6db88a667",
   "metadata": {},
   "outputs": [
    {
     "name": "stdout",
     "output_type": "stream",
     "text": [
      "Banana\n",
      "Mango\n",
      "The fruit is Apple\n",
      "Cherry\n",
      "Papaya\n"
     ]
    }
   ],
   "source": [
    "#In CONTINUE, it skip just the step whose condition is met\n",
    "for i in fruit_lst:\n",
    "    if i==\"Apple\":\n",
    "        print(\"The fruit is Apple\")\n",
    "        continue\n",
    "    print(i)"
   ]
  },
  {
   "cell_type": "code",
   "execution_count": 24,
   "id": "3027d3a0-a94c-4bda-a53c-0213d08dfda0",
   "metadata": {},
   "outputs": [
    {
     "name": "stdout",
     "output_type": "stream",
     "text": [
      "Banana\n",
      "Mango\n",
      "The fruit is Apple\n",
      "Apple\n",
      "Cherry\n",
      "Papaya\n"
     ]
    }
   ],
   "source": [
    "#In PASS, it just passes, executes everything\n",
    "for i in fruit_lst:\n",
    "    if i==\"Apple\":\n",
    "        print(\"The fruit is Apple\")\n",
    "        pass\n",
    "    print(i)"
   ]
  },
  {
   "cell_type": "code",
   "execution_count": null,
   "id": "38118fd8-15ee-4a72-9414-e36601eb20f4",
   "metadata": {},
   "outputs": [],
   "source": []
  }
 ],
 "metadata": {
  "kernelspec": {
   "display_name": "Python 3 (ipykernel)",
   "language": "python",
   "name": "python3"
  },
  "language_info": {
   "codemirror_mode": {
    "name": "ipython",
    "version": 3
   },
   "file_extension": ".py",
   "mimetype": "text/x-python",
   "name": "python",
   "nbconvert_exporter": "python",
   "pygments_lexer": "ipython3",
   "version": "3.10.8"
  }
 },
 "nbformat": 4,
 "nbformat_minor": 5
}
