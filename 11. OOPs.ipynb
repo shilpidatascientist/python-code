{
 "cells": [
  {
   "cell_type": "markdown",
   "id": "8a0516f2-69aa-4bf6-966b-ae1f1b20826e",
   "metadata": {},
   "source": [
    "OOPs concept (Object Oriented Programming System)\n",
    "frontend code in one module , backend code in another module etc and all these modules are interactive with each other.It is more structured and helps in proper maintenance and reusability."
   ]
  },
  {
   "cell_type": "code",
   "execution_count": 1,
   "id": "c4c01956-cadc-44ea-b3cb-839e24b32fae",
   "metadata": {},
   "outputs": [],
   "source": [
    "a=1"
   ]
  },
  {
   "cell_type": "code",
   "execution_count": 2,
   "id": "c4d01b26-a4fd-4d10-b60c-ca15998f90c8",
   "metadata": {},
   "outputs": [
    {
     "data": {
      "text/plain": [
       "int"
      ]
     },
     "execution_count": 2,
     "metadata": {},
     "output_type": "execute_result"
    }
   ],
   "source": [
    "type(a)"
   ]
  },
  {
   "cell_type": "code",
   "execution_count": 3,
   "id": "421cd094-4b11-47b1-a1c1-011b14d91e20",
   "metadata": {},
   "outputs": [
    {
     "name": "stdout",
     "output_type": "stream",
     "text": [
      "<class 'str'>\n"
     ]
    }
   ],
   "source": [
    "print(type('pwskills'))"
   ]
  },
  {
   "cell_type": "markdown",
   "id": "a7671e66-3c1a-4aad-bc00-a721d271d3f5",
   "metadata": {},
   "source": [
    "Create a Class"
   ]
  },
  {
   "cell_type": "code",
   "execution_count": 4,
   "id": "2827a224-86a0-42a1-9d37-0fccc3c024c2",
   "metadata": {},
   "outputs": [],
   "source": [
    "class test:\n",
    "    pass"
   ]
  },
  {
   "cell_type": "code",
   "execution_count": 5,
   "id": "4c99f9dc-f762-4ece-a6e3-c07d197d51cf",
   "metadata": {},
   "outputs": [],
   "source": [
    "a=test()"
   ]
  },
  {
   "cell_type": "code",
   "execution_count": 6,
   "id": "c7fbb8d5-24b1-45c0-a400-b7c8487a08e1",
   "metadata": {},
   "outputs": [
    {
     "name": "stdout",
     "output_type": "stream",
     "text": [
      "<class '__main__.test'>\n"
     ]
    }
   ],
   "source": [
    "print(type(a))\n",
    "#a belongs to class test\n",
    "#a is the object or instance or variable of class test"
   ]
  },
  {
   "cell_type": "code",
   "execution_count": 9,
   "id": "49f0cc0c-7543-4695-a73d-008fb4571740",
   "metadata": {},
   "outputs": [],
   "source": [
    "class pwskills:\n",
    "    def welcome_msg(self):\n",
    "        print(\"Welcome to Pwskills\")\n",
    "#here self insidse the function is necessary for the class to bind it to itself , it cats as a pointer"
   ]
  },
  {
   "cell_type": "code",
   "execution_count": 10,
   "id": "99101709-5a71-41cf-8e0b-123d7f2041c2",
   "metadata": {},
   "outputs": [],
   "source": [
    "rohan = pwskills()"
   ]
  },
  {
   "cell_type": "code",
   "execution_count": 11,
   "id": "c895711b-55d1-4500-8818-510df6bdf2e4",
   "metadata": {},
   "outputs": [
    {
     "name": "stdout",
     "output_type": "stream",
     "text": [
      "Welcome to Pwskills\n"
     ]
    }
   ],
   "source": [
    "rohan.welcome_msg()"
   ]
  },
  {
   "cell_type": "code",
   "execution_count": 12,
   "id": "c8d00121-cef0-4c39-93c9-85a4f65d46bf",
   "metadata": {},
   "outputs": [],
   "source": [
    "sohan = pwskills()"
   ]
  },
  {
   "cell_type": "code",
   "execution_count": 13,
   "id": "771d413e-f217-4199-8de0-2ae5cd11de4e",
   "metadata": {},
   "outputs": [
    {
     "name": "stdout",
     "output_type": "stream",
     "text": [
      "Welcome to Pwskills\n"
     ]
    }
   ],
   "source": [
    "sohan.welcome_msg()"
   ]
  },
  {
   "cell_type": "markdown",
   "id": "3b08b288-b33f-4e4a-95f0-be259f392ca9",
   "metadata": {},
   "source": [
    "Constructor helps the class to take data while creating an object and pass it to the Class"
   ]
  },
  {
   "cell_type": "code",
   "execution_count": 1,
   "id": "8bb054b6-222c-4cfd-b3ed-fc8cebc4823b",
   "metadata": {},
   "outputs": [],
   "source": [
    "class pwskills1:\n",
    "    def __init__(self, phone_num,email_id,student_id): # init is an inbuilt constructor, and self is used as a pointer to the class\n",
    "        self.phone_num = phone_num\n",
    "        self.email_id = email_id\n",
    "        self.student_id = student_id\n",
    "        \n",
    "    def return_student_details(self):\n",
    "        return self.phone_num,self.email_id,self.student_id\n",
    "#'self' helps to access the variable values"
   ]
  },
  {
   "cell_type": "code",
   "execution_count": 6,
   "id": "a3295b9d-3c10-42d4-9cb1-ae23dcbc7012",
   "metadata": {},
   "outputs": [],
   "source": [
    "rohan=pwskills1(9876656545,\"rohan@gmail.com\",101)"
   ]
  },
  {
   "cell_type": "code",
   "execution_count": 7,
   "id": "22fedd33-90f9-41e2-a575-ab4413ac4372",
   "metadata": {},
   "outputs": [
    {
     "data": {
      "text/plain": [
       "9876656545"
      ]
     },
     "execution_count": 7,
     "metadata": {},
     "output_type": "execute_result"
    }
   ],
   "source": [
    "rohan.phone_num #this way we can access the variable outside the class,so rohan is an object here"
   ]
  },
  {
   "cell_type": "code",
   "execution_count": 8,
   "id": "db344fdf-6275-459f-8458-497db75b318e",
   "metadata": {},
   "outputs": [
    {
     "data": {
      "text/plain": [
       "'rohan@gmail.com'"
      ]
     },
     "execution_count": 8,
     "metadata": {},
     "output_type": "execute_result"
    }
   ],
   "source": [
    "rohan.email_id"
   ]
  },
  {
   "cell_type": "code",
   "execution_count": 9,
   "id": "3dbae02e-5fae-4872-9554-5ba293e34fb7",
   "metadata": {},
   "outputs": [
    {
     "data": {
      "text/plain": [
       "(9876656545, 'rohan@gmail.com', 101)"
      ]
     },
     "execution_count": 9,
     "metadata": {},
     "output_type": "execute_result"
    }
   ],
   "source": [
    "rohan.return_student_details()"
   ]
  },
  {
   "cell_type": "code",
   "execution_count": 12,
   "id": "41ef42c1-c7c4-43b0-9dc8-00aa9f079f38",
   "metadata": {},
   "outputs": [],
   "source": [
    "sohan=pwskills1(97754445,\"sohan@gmail.com\",102)"
   ]
  },
  {
   "cell_type": "code",
   "execution_count": 14,
   "id": "189dad3b-bf40-4a1b-a5ec-4980bcaf603a",
   "metadata": {},
   "outputs": [
    {
     "data": {
      "text/plain": [
       "(97754445, 'sohan@gmail.com', 102)"
      ]
     },
     "execution_count": 14,
     "metadata": {},
     "output_type": "execute_result"
    }
   ],
   "source": [
    "sohan.return_student_details()"
   ]
  },
  {
   "cell_type": "code",
   "execution_count": 12,
   "id": "2d362369-223b-4b11-b48e-cdfe09099cff",
   "metadata": {},
   "outputs": [],
   "source": [
    "class pwskills2:\n",
    "    def __init__(genie,phone_num,email_id,student_id):\n",
    "        genie.phone_num=phone_num\n",
    "        genie.email_id=email_id\n",
    "        genie.student_id=student_id\n",
    "        \n",
    "    def return_student_details(genie):\n",
    "        return genie.phone_num,genie.email_id,genie.student_id"
   ]
  },
  {
   "cell_type": "code",
   "execution_count": 13,
   "id": "8be2d445-03c3-430b-8eab-5cae3e46acf7",
   "metadata": {},
   "outputs": [],
   "source": [
    "mohan=pwskills2(67565657,\"mohan@gmail.com\",103)"
   ]
  },
  {
   "cell_type": "code",
   "execution_count": 14,
   "id": "6db932eb-bbb6-49b2-ae7a-99c2ceb5d65e",
   "metadata": {},
   "outputs": [
    {
     "data": {
      "text/plain": [
       "67565657"
      ]
     },
     "execution_count": 14,
     "metadata": {},
     "output_type": "execute_result"
    }
   ],
   "source": [
    "mohan.phone_num"
   ]
  },
  {
   "cell_type": "code",
   "execution_count": 15,
   "id": "6bb4bba6-96f1-4e47-8864-c06635652731",
   "metadata": {},
   "outputs": [
    {
     "data": {
      "text/plain": [
       "(67565657, 'mohan@gmail.com', 103)"
      ]
     },
     "execution_count": 15,
     "metadata": {},
     "output_type": "execute_result"
    }
   ],
   "source": [
    "mohan.return_student_details()"
   ]
  },
  {
   "cell_type": "code",
   "execution_count": 2,
   "id": "ec57eb41-8479-4970-a2bc-aa3c81899b11",
   "metadata": {},
   "outputs": [],
   "source": [
    "class pwskills3:\n",
    "    def __init__(genie,phone_num,email_id,student_id):\n",
    "        genie.phone_num1=phone_num\n",
    "        genie.email_id1=email_id\n",
    "        genie.student_id1=student_id\n",
    "    def return_student_details(genie):\n",
    "        return genie.phone_num1,genie.email_id1,genie.student_id1"
   ]
  },
  {
   "cell_type": "code",
   "execution_count": 3,
   "id": "62ca30a8-2549-4e58-ae3c-18fa3e24331a",
   "metadata": {},
   "outputs": [],
   "source": [
    "rohan=pwskills3(8399873477,\"nitu@gmail.com\",103)"
   ]
  },
  {
   "cell_type": "code",
   "execution_count": 4,
   "id": "8c0d97e5-e45a-4b6d-b58c-fe2d2fb9ee6e",
   "metadata": {},
   "outputs": [
    {
     "data": {
      "text/plain": [
       "8399873477"
      ]
     },
     "execution_count": 4,
     "metadata": {},
     "output_type": "execute_result"
    }
   ],
   "source": [
    "rohan.phone_num1"
   ]
  },
  {
   "cell_type": "code",
   "execution_count": null,
   "id": "fa9918f2-b174-44de-9d60-2a12f1589e57",
   "metadata": {},
   "outputs": [],
   "source": []
  }
 ],
 "metadata": {
  "kernelspec": {
   "display_name": "Python 3 (ipykernel)",
   "language": "python",
   "name": "python3"
  },
  "language_info": {
   "codemirror_mode": {
    "name": "ipython",
    "version": 3
   },
   "file_extension": ".py",
   "mimetype": "text/x-python",
   "name": "python",
   "nbconvert_exporter": "python",
   "pygments_lexer": "ipython3",
   "version": "3.10.8"
  }
 },
 "nbformat": 4,
 "nbformat_minor": 5
}
