{
 "cells": [
  {
   "cell_type": "markdown",
   "id": "3c427fcd-a49c-4288-bc1c-640eece26755",
   "metadata": {},
   "source": [
    "Multithreading:\n",
    "For example in a quad core processor, we would have all the resources to execute all the programs sequentially in the same core (order wise)"
   ]
  },
  {
   "cell_type": "code",
   "execution_count": 1,
   "id": "3067c3e4-7e26-4d76-888d-b95ceed85292",
   "metadata": {},
   "outputs": [],
   "source": [
    "import threading"
   ]
  },
  {
   "cell_type": "code",
   "execution_count": 2,
   "id": "7a7eb1f0-b0d0-4bb9-862a-381398b56085",
   "metadata": {},
   "outputs": [],
   "source": [
    "def test(id):\n",
    "    print(\"this is my test id %d\"% id)"
   ]
  },
  {
   "cell_type": "code",
   "execution_count": 3,
   "id": "647f553e-79dc-4e11-9d47-63d790122031",
   "metadata": {},
   "outputs": [
    {
     "name": "stdout",
     "output_type": "stream",
     "text": [
      "this is my test id 10\n"
     ]
    }
   ],
   "source": [
    "test(10)"
   ]
  },
  {
   "cell_type": "code",
   "execution_count": 4,
   "id": "3c0adee0-b95b-4e94-a930-4bb294395fae",
   "metadata": {},
   "outputs": [
    {
     "name": "stdout",
     "output_type": "stream",
     "text": [
      "this is my test id 1\n"
     ]
    }
   ],
   "source": [
    "test(1)"
   ]
  },
  {
   "cell_type": "code",
   "execution_count": 5,
   "id": "e85c12ea-3ada-4655-9534-aa9dbd786590",
   "metadata": {},
   "outputs": [
    {
     "name": "stdout",
     "output_type": "stream",
     "text": [
      "this is my test id 3\n"
     ]
    }
   ],
   "source": [
    "test(3)"
   ]
  },
  {
   "cell_type": "code",
   "execution_count": 6,
   "id": "a2167544-3aca-437f-a448-1813d3e45de5",
   "metadata": {},
   "outputs": [],
   "source": [
    "thred = [threading.Thread(target = test,args = (i,)) for i in [10,1,3]]\n",
    "#here in args parameters,comma is important or else it does NOT execute by start()"
   ]
  },
  {
   "cell_type": "code",
   "execution_count": 7,
   "id": "873deee6-5473-4bf1-8438-27f9765f9550",
   "metadata": {},
   "outputs": [
    {
     "data": {
      "text/plain": [
       "[<Thread(Thread-5 (test), initial)>,\n",
       " <Thread(Thread-6 (test), initial)>,\n",
       " <Thread(Thread-7 (test), initial)>]"
      ]
     },
     "execution_count": 7,
     "metadata": {},
     "output_type": "execute_result"
    }
   ],
   "source": [
    "thred"
   ]
  },
  {
   "cell_type": "code",
   "execution_count": 8,
   "id": "04800cef-c45b-45da-9035-dd7d3a600d38",
   "metadata": {},
   "outputs": [
    {
     "name": "stdout",
     "output_type": "stream",
     "text": [
      "this is my test id 10\n",
      "this is my test id 1\n",
      "this is my test id 3\n"
     ]
    }
   ],
   "source": [
    "#it runs 3 times in single core, this is multithreading\n",
    "for t in thred:\n",
    "    t.start()"
   ]
  },
  {
   "cell_type": "markdown",
   "id": "3b9325e3-9fe4-4d5d-a8c2-376be268dc18",
   "metadata": {},
   "source": [
    "#Question:\n",
    "Fetch the data from 3 links and store in local as a file"
   ]
  },
  {
   "cell_type": "code",
   "execution_count": 9,
   "id": "2b690f8e-271c-4361-8096-b3b4dd59d2ee",
   "metadata": {},
   "outputs": [],
   "source": [
    "import urllib.request\n",
    "def file_download(url, filename): #(input links,output file)\n",
    "    urllib.request.urlretrieve(url,filename)\n",
    "    \n",
    "        "
   ]
  },
  {
   "cell_type": "code",
   "execution_count": 10,
   "id": "d854de29-e6e0-43d7-b032-6b6eec0a464a",
   "metadata": {},
   "outputs": [],
   "source": [
    "file_download('https://raw.githubusercontent.com/itsfoss/text-files/master/agatha.txt' , \"test1.txt\")"
   ]
  },
  {
   "cell_type": "code",
   "execution_count": 11,
   "id": "30987f9d-fe6a-4548-aed6-1a32a9fb814a",
   "metadata": {},
   "outputs": [],
   "source": [
    "url_list = ['https://raw.githubusercontent.com/itsfoss/text-files/master/agatha.txt' , 'https://raw.githubusercontent.com/itsfoss/text-files/master/sherlock.txt' ,'https://raw.githubusercontent.com/itsfoss/text-files/master/sample_log_file.txt' ]"
   ]
  },
  {
   "cell_type": "code",
   "execution_count": 12,
   "id": "4b0f0bcc-8d86-4e85-b8a8-b473a5711b82",
   "metadata": {},
   "outputs": [
    {
     "data": {
      "text/plain": [
       "['https://raw.githubusercontent.com/itsfoss/text-files/master/agatha.txt',\n",
       " 'https://raw.githubusercontent.com/itsfoss/text-files/master/sherlock.txt',\n",
       " 'https://raw.githubusercontent.com/itsfoss/text-files/master/sample_log_file.txt']"
      ]
     },
     "execution_count": 12,
     "metadata": {},
     "output_type": "execute_result"
    }
   ],
   "source": [
    "url_list"
   ]
  },
  {
   "cell_type": "code",
   "execution_count": 13,
   "id": "3e4310d8-34b6-45b0-9600-d6c0fce91243",
   "metadata": {},
   "outputs": [],
   "source": [
    "data_file_list = ['data1.txt', 'data2.txt','data3.txt']"
   ]
  },
  {
   "cell_type": "code",
   "execution_count": 14,
   "id": "905d1694-1f2c-420a-89fc-2044f9a77d8e",
   "metadata": {},
   "outputs": [
    {
     "data": {
      "text/plain": [
       "['data1.txt', 'data2.txt', 'data3.txt']"
      ]
     },
     "execution_count": 14,
     "metadata": {},
     "output_type": "execute_result"
    }
   ],
   "source": [
    "data_file_list"
   ]
  },
  {
   "cell_type": "code",
   "execution_count": 27,
   "id": "3b4be997-96e4-4a6f-b0d3-be831ae2afdb",
   "metadata": {},
   "outputs": [],
   "source": [
    "thread1 = [threading.Thread(target = file_download, args = (url_list[i],data_file_list[i])) for i in range(len(url_list))]"
   ]
  },
  {
   "cell_type": "code",
   "execution_count": 19,
   "id": "b5b1eaf9-241b-4801-ba65-8d20024c9783",
   "metadata": {},
   "outputs": [],
   "source": [
    "for t in thread1:\n",
    "    t.start()\n",
    "#three datafiles are created in the same core without calling it 3 times"
   ]
  },
  {
   "cell_type": "code",
   "execution_count": 20,
   "id": "bdf664bf-5b2c-4a26-9e37-a3eea76a7d82",
   "metadata": {},
   "outputs": [],
   "source": [
    "import time"
   ]
  },
  {
   "cell_type": "code",
   "execution_count": 23,
   "id": "004bd983-4e35-4baf-9263-354bca358924",
   "metadata": {},
   "outputs": [],
   "source": [
    "def test2(x):\n",
    "    for i in range(10):\n",
    "        print(\"test2 print the value of x %d and print the value of i in %d\" %(x,i))\n",
    "        time.sleep(1)"
   ]
  },
  {
   "cell_type": "code",
   "execution_count": 24,
   "id": "9d1e5048-348c-449b-a335-f88614b4ed8a",
   "metadata": {},
   "outputs": [
    {
     "name": "stdout",
     "output_type": "stream",
     "text": [
      "test2 print the value of x 10 and print the value of i in 0\n",
      "test2 print the value of x 10 and print the value of i in 1\n",
      "test2 print the value of x 10 and print the value of i in 2\n",
      "test2 print the value of x 10 and print the value of i in 3\n",
      "test2 print the value of x 10 and print the value of i in 4\n",
      "test2 print the value of x 10 and print the value of i in 5\n",
      "test2 print the value of x 10 and print the value of i in 6\n",
      "test2 print the value of x 10 and print the value of i in 7\n",
      "test2 print the value of x 10 and print the value of i in 8\n",
      "test2 print the value of x 10 and print the value of i in 9\n"
     ]
    }
   ],
   "source": [
    "test2(10)\n",
    "#it will take 1 sec of sleep time in printing every line"
   ]
  },
  {
   "cell_type": "code",
   "execution_count": 37,
   "id": "3f00213b-7678-492e-aee1-bf1445b8c761",
   "metadata": {},
   "outputs": [],
   "source": [
    "#lets execute it using thread\n",
    "thread2 = [threading.Thread(target = test2,args = (i,)) for i in [100,10,20,5]]"
   ]
  },
  {
   "cell_type": "code",
   "execution_count": 31,
   "id": "07a69eda-5ea8-47b2-b477-a0b66e04c9f0",
   "metadata": {},
   "outputs": [
    {
     "name": "stdout",
     "output_type": "stream",
     "text": [
      "test2 print the value of x 100 and print the value of i in 0\n",
      "test2 print the value of x 10 and print the value of i in 0\n",
      "test2 print the value of x 20 and print the value of i in 0\n",
      "test2 print the value of x 5 and print the value of i in 0\n",
      "test2 print the value of x 100 and print the value of i in 1\n",
      "test2 print the value of x 10 and print the value of i in 1\n",
      "test2 print the value of x 20 and print the value of i in 1\n",
      "test2 print the value of x 5 and print the value of i in 1\n",
      "test2 print the value of x 100 and print the value of i in 2\n",
      "test2 print the value of x 10 and print the value of i in 2\n",
      "test2 print the value of x 20 and print the value of i in 2\n",
      "test2 print the value of x 5 and print the value of i in 2\n",
      "test2 print the value of x 100 and print the value of i in 3\n",
      "test2 print the value of x 10 and print the value of i in 3\n",
      "test2 print the value of x 20 and print the value of i in 3\n",
      "test2 print the value of x 5 and print the value of i in 3\n",
      "test2 print the value of x 100 and print the value of i in 4\n",
      "test2 print the value of x 10 and print the value of i in 4\n",
      "test2 print the value of x 5 and print the value of i in 4\n",
      "test2 print the value of x 20 and print the value of i in 4\n",
      "test2 print the value of x 100 and print the value of i in 5test2 print the value of x 10 and print the value of i in 5\n",
      "\n",
      "test2 print the value of x 5 and print the value of i in 5\n",
      "test2 print the value of x 20 and print the value of i in 5\n",
      "test2 print the value of x 10 and print the value of i in 6\n",
      "test2 print the value of x 100 and print the value of i in 6\n",
      "test2 print the value of x 5 and print the value of i in 6\n",
      "test2 print the value of x 20 and print the value of i in 6\n",
      "test2 print the value of x 10 and print the value of i in 7\n",
      "test2 print the value of x 100 and print the value of i in 7\n",
      "test2 print the value of x 5 and print the value of i in 7\n",
      "test2 print the value of x 20 and print the value of i in 7\n",
      "test2 print the value of x 10 and print the value of i in 8\n",
      "test2 print the value of x 100 and print the value of i in 8\n",
      "test2 print the value of x 5 and print the value of i in 8\n",
      "test2 print the value of x 20 and print the value of i in 8\n",
      "test2 print the value of x 10 and print the value of i in 9\n",
      "test2 print the value of x 100 and print the value of i in 9\n",
      "test2 print the value of x 20 and print the value of i in 9\n",
      "test2 print the value of x 5 and print the value of i in 9\n"
     ]
    }
   ],
   "source": [
    "for t in thread2:\n",
    "    t.start()\n",
    "#since this is taking sleep of 1 sec, it gives chance to other parameters in threading"
   ]
  },
  {
   "cell_type": "code",
   "execution_count": 34,
   "id": "818faa82-7eff-4b95-a3dd-942cc078606a",
   "metadata": {},
   "outputs": [],
   "source": [
    "def test2(x):\n",
    "    for i in range(10):\n",
    "        print(\"test2 print the value of x %d and print the value of i in %d\" %(x,i))\n",
    "        #time.sleep(1)"
   ]
  },
  {
   "cell_type": "markdown",
   "id": "ee9fa9be-11d6-41a1-aa25-34d064a884ab",
   "metadata": {},
   "source": [
    "Without sleep, it would complete the execution with one value and then move to the other value.\n",
    "But in case of sleep, for better utilization of time & memory it gives oppourtunity to another value while its sleep as part of threading"
   ]
  },
  {
   "cell_type": "code",
   "execution_count": 38,
   "id": "610638dc-3098-4a0a-af8a-2c4694e7c633",
   "metadata": {},
   "outputs": [
    {
     "name": "stdout",
     "output_type": "stream",
     "text": [
      "test2 print the value of x 100 and print the value of i in 0\n",
      "test2 print the value of x 100 and print the value of i in 1\n",
      "test2 print the value of x 100 and print the value of i in 2\n",
      "test2 print the value of x 100 and print the value of i in 3\n",
      "test2 print the value of x 100 and print the value of i in 4\n",
      "test2 print the value of x 100 and print the value of i in 5\n",
      "test2 print the value of x 100 and print the value of i in 6\n",
      "test2 print the value of x 100 and print the value of i in 7\n",
      "test2 print the value of x 100 and print the value of i in 8\n",
      "test2 print the value of x 100 and print the value of i in 9\n",
      "test2 print the value of x 10 and print the value of i in 0\n",
      "test2 print the value of x 10 and print the value of i in 1\n",
      "test2 print the value of x 10 and print the value of i in 2\n",
      "test2 print the value of x 10 and print the value of i in 3\n",
      "test2 print the value of x 10 and print the value of i in 4\n",
      "test2 print the value of x 10 and print the value of i in 5\n",
      "test2 print the value of x 10 and print the value of i in 6\n",
      "test2 print the value of x 10 and print the value of i in 7\n",
      "test2 print the value of x 10 and print the value of i in 8\n",
      "test2 print the value of x 10 and print the value of i in 9\n",
      "test2 print the value of x 20 and print the value of i in 0\n",
      "test2 print the value of x 20 and print the value of i in 1\n",
      "test2 print the value of x 20 and print the value of i in 2\n",
      "test2 print the value of x 20 and print the value of i in 3\n",
      "test2 print the value of x 20 and print the value of i in 4\n",
      "test2 print the value of x 20 and print the value of i in 5\n",
      "test2 print the value of x 20 and print the value of i in 6\n",
      "test2 print the value of x 20 and print the value of i in 7\n",
      "test2 print the value of x 20 and print the value of i in 8\n",
      "test2 print the value of x 20 and print the value of i in 9\n",
      "test2 print the value of x 5 and print the value of i in 0\n",
      "test2 print the value of x 5 and print the value of i in 1\n",
      "test2 print the value of x 5 and print the value of i in 2\n",
      "test2 print the value of x 5 and print the value of i in 3\n",
      "test2 print the value of x 5 and print the value of i in 4\n",
      "test2 print the value of x 5 and print the value of i in 5\n",
      "test2 print the value of x 5 and print the value of i in 6\n",
      "test2 print the value of x 5 and print the value of i in 7\n",
      "test2 print the value of x 5 and print the value of i in 8\n",
      "test2 print the value of x 5 and print the value of i in 9\n"
     ]
    }
   ],
   "source": [
    "for y in thread2:\n",
    "    y.start()\n"
   ]
  },
  {
   "cell_type": "markdown",
   "id": "04b1cd33-850f-4e9a-afa7-29e013157052",
   "metadata": {},
   "source": [
    "Program for shared variable : global keyword is used (this is to share the resources in the same core)\n",
    "Lock function helps in creating a lock while it goes sleep so that no one else executes it. so the output will be just once as below."
   ]
  },
  {
   "cell_type": "code",
   "execution_count": 43,
   "id": "931a5056-2dbf-41de-80fb-eaf457a454a0",
   "metadata": {},
   "outputs": [],
   "source": [
    "shared_var = 0\n",
    "lock_var = threading.Lock() #creating an instance for the lock function\n",
    "def test3(x):\n",
    "    global shared_var\n",
    "    with lock_var:\n",
    "        shared_var = shared_var + 1\n",
    "        print(\"value of x is %d and value of shared_var is %d \" %(x,shared_var))\n",
    "        time.sleep(1)\n",
    "    "
   ]
  },
  {
   "cell_type": "code",
   "execution_count": 47,
   "id": "131f5756-8885-4318-99d5-38c34525b9e0",
   "metadata": {},
   "outputs": [
    {
     "name": "stdout",
     "output_type": "stream",
     "text": [
      "value of x is 3 and value of shared_var is 12 \n"
     ]
    }
   ],
   "source": [
    "test3(3)\n",
    "#everytime this function is called value of shared_var is incremenbted"
   ]
  },
  {
   "cell_type": "code",
   "execution_count": 48,
   "id": "d424a34e-6854-470f-81c1-25194b2ec256",
   "metadata": {},
   "outputs": [
    {
     "name": "stdout",
     "output_type": "stream",
     "text": [
      "value of x is 1 and value of shared_var is 13 \n",
      "value of x is 2 and value of shared_var is 14 \n",
      "value of x is 3 and value of shared_var is 15 \n",
      "value of x is 4 and value of shared_var is 16 \n",
      "value of x is 5 and value of shared_var is 17 \n"
     ]
    }
   ],
   "source": [
    "#lets execute it all together by threading\n",
    "thread3 = [threading.Thread(target=test3,args=(i,)) for i in [1,2,3,4,5]]\n",
    "\n",
    "for t in thread3:\n",
    "    t.start()"
   ]
  },
  {
   "cell_type": "code",
   "execution_count": 49,
   "id": "a9afc11a-42e7-42ca-8374-df4460f82d27",
   "metadata": {},
   "outputs": [
    {
     "name": "stdout",
     "output_type": "stream",
     "text": [
      "value of x is 1 and value of shared_var is 18 \n",
      "value of x is 1 and value of shared_var is 19 \n",
      "value of x is 1 and value of shared_var is 20 \n"
     ]
    }
   ],
   "source": [
    "def test3(x):\n",
    "    global shared_var\n",
    "    with lock_var:\n",
    "        for i in range(3):\n",
    "            shared_var = shared_var + 1\n",
    "            print(\"value of x is %d and value of shared_var is %d \" %(x,shared_var))\n",
    "            time.sleep(1)\n",
    "test3(1)        "
   ]
  },
  {
   "cell_type": "code",
   "execution_count": 50,
   "id": "57678ed7-20fd-449a-85dd-60e9c7b6876f",
   "metadata": {},
   "outputs": [
    {
     "name": "stdout",
     "output_type": "stream",
     "text": [
      "value of x is 1 and value of shared_var is 21 \n",
      "value of x is 1 and value of shared_var is 22 \n",
      "value of x is 1 and value of shared_var is 23 \n",
      "value of x is 2 and value of shared_var is 24 \n",
      "value of x is 2 and value of shared_var is 25 \n",
      "value of x is 2 and value of shared_var is 26 \n",
      "value of x is 3 and value of shared_var is 27 \n",
      "value of x is 3 and value of shared_var is 28 \n",
      "value of x is 3 and value of shared_var is 29 \n",
      "value of x is 4 and value of shared_var is 30 \n",
      "value of x is 4 and value of shared_var is 31 \n",
      "value of x is 4 and value of shared_var is 32 \n",
      "value of x is 5 and value of shared_var is 33 \n",
      "value of x is 5 and value of shared_var is 34 \n",
      "value of x is 5 and value of shared_var is 35 \n"
     ]
    }
   ],
   "source": [
    "thread3 = [threading.Thread(target=test3,args=(i,)) for i in [1,2,3,4,5]]\n",
    "\n",
    "for t in thread3:\n",
    "    t.start()"
   ]
  },
  {
   "cell_type": "code",
   "execution_count": null,
   "id": "e5c2cbf3-e1a5-4766-a831-91196ae600de",
   "metadata": {},
   "outputs": [],
   "source": []
  }
 ],
 "metadata": {
  "kernelspec": {
   "display_name": "Python 3 (ipykernel)",
   "language": "python",
   "name": "python3"
  },
  "language_info": {
   "codemirror_mode": {
    "name": "ipython",
    "version": 3
   },
   "file_extension": ".py",
   "mimetype": "text/x-python",
   "name": "python",
   "nbconvert_exporter": "python",
   "pygments_lexer": "ipython3",
   "version": "3.10.8"
  }
 },
 "nbformat": 4,
 "nbformat_minor": 5
}
