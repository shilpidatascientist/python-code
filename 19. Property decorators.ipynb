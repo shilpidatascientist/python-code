{
 "cells": [
  {
   "cell_type": "markdown",
   "id": "d3e0cf20-7125-4ff9-94ab-50444a413872",
   "metadata": {},
   "source": [
    "Property Decorators\n",
    "A variable with __ means it is a private variable, it can be accessed only inside the class\n",
    "_ means protected\n",
    "Property decorator help in accessing private variables outside the class\n",
    "With the help of setter, any other user can set the value of private variable\n",
    "With the help of deleter, any other user can delete the va;ue of private variable"
   ]
  },
  {
   "cell_type": "code",
   "execution_count": 1,
   "id": "fcab3b7c-c505-4100-9e50-0b8f712828d1",
   "metadata": {},
   "outputs": [],
   "source": [
    "class pwskills:\n",
    "    def __init__(self, course_price,course_name):\n",
    "        self.__course_price = course_price\n",
    "        self.course_name = course_name\n",
    "# here __course_price is private variable and course_name is public variable"
   ]
  },
  {
   "cell_type": "code",
   "execution_count": 3,
   "id": "9656002a-6f83-444a-a765-65e9e6d56687",
   "metadata": {},
   "outputs": [],
   "source": [
    "pw = pwskills(3500,\"data science masters\")"
   ]
  },
  {
   "cell_type": "code",
   "execution_count": 4,
   "id": "9e3e5e64-927e-4e8c-bf62-bac8319a69b6",
   "metadata": {},
   "outputs": [
    {
     "data": {
      "text/plain": [
       "'data science masters'"
      ]
     },
     "execution_count": 4,
     "metadata": {},
     "output_type": "execute_result"
    }
   ],
   "source": [
    "pw.course_name"
   ]
  },
  {
   "cell_type": "code",
   "execution_count": 6,
   "id": "e8427b5b-8728-4c3b-b3c7-33609dc11ad6",
   "metadata": {},
   "outputs": [
    {
     "ename": "AttributeError",
     "evalue": "'pwskills' object has no attribute '__course_price'",
     "output_type": "error",
     "traceback": [
      "\u001b[0;31m---------------------------------------------------------------------------\u001b[0m",
      "\u001b[0;31mAttributeError\u001b[0m                            Traceback (most recent call last)",
      "Cell \u001b[0;32mIn[6], line 1\u001b[0m\n\u001b[0;32m----> 1\u001b[0m \u001b[43mpw\u001b[49m\u001b[38;5;241;43m.\u001b[39;49m\u001b[43m__course_price\u001b[49m\n",
      "\u001b[0;31mAttributeError\u001b[0m: 'pwskills' object has no attribute '__course_price'"
     ]
    }
   ],
   "source": [
    "pw.__course_price"
   ]
  },
  {
   "cell_type": "code",
   "execution_count": 7,
   "id": "2a5b128d-e1be-4d22-8e46-f3c7b80ba6d7",
   "metadata": {},
   "outputs": [
    {
     "data": {
      "text/plain": [
       "3500"
      ]
     },
     "execution_count": 7,
     "metadata": {},
     "output_type": "execute_result"
    }
   ],
   "source": [
    "pw._pwskills__course_price"
   ]
  },
  {
   "cell_type": "code",
   "execution_count": 24,
   "id": "d11e1d5b-065d-43d9-ad98-7ba0ac15b238",
   "metadata": {},
   "outputs": [],
   "source": [
    "class pwskills1:\n",
    "    def __init__(self, course_price,course_name):\n",
    "        self.__course_price = course_price\n",
    "        self.course_name = course_name\n",
    "        \n",
    "    @property\n",
    "    def course_price_access(self):\n",
    "        return self.__course_price\n",
    "    \n",
    "    @course_price_access.setter\n",
    "    def course_price_set(self, price):\n",
    "        if price <=3500:\n",
    "            pass\n",
    "        else:\n",
    "            self.__course_price = price\n",
    "        \n",
    "    @course_price_access.deleter\n",
    "    def course_price_del(self):\n",
    "        del self.__course_price\n",
    " #user will be able to access private variable through property decorator           "
   ]
  },
  {
   "cell_type": "code",
   "execution_count": 25,
   "id": "954a48a7-5a5b-4754-8b71-f7560b0e627b",
   "metadata": {},
   "outputs": [],
   "source": [
    "pw1 = pwskills1(3500,\"data science\")"
   ]
  },
  {
   "cell_type": "code",
   "execution_count": 26,
   "id": "53020bf0-fa40-45a2-ace0-64d57ed5387b",
   "metadata": {},
   "outputs": [
    {
     "data": {
      "text/plain": [
       "3500"
      ]
     },
     "execution_count": 26,
     "metadata": {},
     "output_type": "execute_result"
    }
   ],
   "source": [
    "pw1.course_price_access"
   ]
  },
  {
   "cell_type": "code",
   "execution_count": 31,
   "id": "0b8aba78-3b79-4890-bc3e-85ffbb5acc4c",
   "metadata": {},
   "outputs": [],
   "source": [
    "pw1.course_price_set = 1100"
   ]
  },
  {
   "cell_type": "code",
   "execution_count": 32,
   "id": "63126459-79b6-406a-8416-c42fdf1ce871",
   "metadata": {},
   "outputs": [
    {
     "data": {
      "text/plain": [
       "6700"
      ]
     },
     "execution_count": 32,
     "metadata": {},
     "output_type": "execute_result"
    }
   ],
   "source": [
    "pw1.course_price_access"
   ]
  },
  {
   "cell_type": "code",
   "execution_count": null,
   "id": "4a963b81-7e4f-4470-a4f6-267649f872c5",
   "metadata": {},
   "outputs": [],
   "source": [
    "#del pw.course_price_del"
   ]
  },
  {
   "cell_type": "code",
   "execution_count": null,
   "id": "03dc9453-9f15-4957-a25a-16d5dc9e704c",
   "metadata": {},
   "outputs": [],
   "source": []
  }
 ],
 "metadata": {
  "kernelspec": {
   "display_name": "Python 3 (ipykernel)",
   "language": "python",
   "name": "python3"
  },
  "language_info": {
   "codemirror_mode": {
    "name": "ipython",
    "version": 3
   },
   "file_extension": ".py",
   "mimetype": "text/x-python",
   "name": "python",
   "nbconvert_exporter": "python",
   "pygments_lexer": "ipython3",
   "version": "3.10.8"
  }
 },
 "nbformat": 4,
 "nbformat_minor": 5
}
