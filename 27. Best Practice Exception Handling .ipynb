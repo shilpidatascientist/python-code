{
 "cells": [
  {
   "cell_type": "markdown",
   "id": "b4f6ee27-8290-4bfa-b8dc-73584b4a74b3",
   "metadata": {},
   "source": [
    "Best Practice Exception Handling:\n",
    "1. use always a specific exception\n",
    "2. print always a proper msg\n",
    "3. always try to log\n",
    "4. avoid to write multiple exception handling\n",
    "5. Prepare proper documentation\n",
    "6. cleanup all the resources"
   ]
  },
  {
   "cell_type": "code",
   "execution_count": 1,
   "id": "e5882e7c-137d-4ad5-bfa9-e4c19b2bf137",
   "metadata": {},
   "outputs": [
    {
     "name": "stdout",
     "output_type": "stream",
     "text": [
      "division by zero\n"
     ]
    }
   ],
   "source": [
    "#use always a specific exception\n",
    "try:\n",
    "    10/0\n",
    "except Exception as e:\n",
    "    print(e)\n",
    "#here best practice would be use ZeroDivisionError"
   ]
  },
  {
   "cell_type": "code",
   "execution_count": 10,
   "id": "bbca6dbb-ea73-4312-a3c9-e728c944f624",
   "metadata": {},
   "outputs": [
    {
     "name": "stdout",
     "output_type": "stream",
     "text": [
      "This is ZeroDivisionError. division by zero\n"
     ]
    }
   ],
   "source": [
    "#print always a proper msg\n",
    "try:\n",
    "    10/0\n",
    "except ZeroDivisionError as e:\n",
    "    print(\"This is ZeroDivisionError.\",e)"
   ]
  },
  {
   "cell_type": "code",
   "execution_count": 16,
   "id": "5b4b7106-162b-492e-a0ee-0b7190f6079d",
   "metadata": {},
   "outputs": [],
   "source": [
    "#always try to log \n",
    "#we should not use print instead use logging\n",
    "import logging\n",
    "logging.basicConfig(filename = \"error.log\", level=logging.ERROR)\n",
    "try:\n",
    "    10/0\n",
    "except ZeroDivisionError as e:\n",
    "    logging.error(\"This is ZeroDeiveionError I am handling {}\".format(e))\n",
    "    "
   ]
  },
  {
   "cell_type": "code",
   "execution_count": 18,
   "id": "a035b677-6810-4e50-8327-bd651d900b7f",
   "metadata": {},
   "outputs": [
    {
     "name": "stdout",
     "output_type": "stream",
     "text": [
      "This is ZeroDivisionError. division by zero\n"
     ]
    }
   ],
   "source": [
    "#avoid to write multiple exception handling\n",
    "try:\n",
    "    10/0\n",
    "except FileNotFoundError as e:\n",
    "     logging.error(\"This is FileNotFoundError {}\".format(e))\n",
    "except AttributeError as e:\n",
    "     logging.error(\"This is  AttributeError {}\".format(e))\n",
    "except ZeroDivisionError as e:\n",
    "    print(\"This is ZeroDivisionError.\",e)"
   ]
  },
  {
   "cell_type": "code",
   "execution_count": 19,
   "id": "e78a39d6-fcd2-4d6a-bb3e-8a9546675edd",
   "metadata": {},
   "outputs": [],
   "source": [
    "#cleanup all the resources\n",
    "try:\n",
    "    with open(\"test123.txt\",'w') as f:\n",
    "        f.write(\"this is my msg to file\")\n",
    "except FileNotFoundError as e:\n",
    "    logging.error(\"this is file not found error {}\",format(e))\n",
    "finally:\n",
    "    f.close()"
   ]
  },
  {
   "cell_type": "code",
   "execution_count": null,
   "id": "6d1e290b-7288-43e5-8f0a-88bc18fde9d4",
   "metadata": {},
   "outputs": [],
   "source": []
  }
 ],
 "metadata": {
  "kernelspec": {
   "display_name": "Python 3 (ipykernel)",
   "language": "python",
   "name": "python3"
  },
  "language_info": {
   "codemirror_mode": {
    "name": "ipython",
    "version": 3
   },
   "file_extension": ".py",
   "mimetype": "text/x-python",
   "name": "python",
   "nbconvert_exporter": "python",
   "pygments_lexer": "ipython3",
   "version": "3.10.8"
  }
 },
 "nbformat": 4,
 "nbformat_minor": 5
}
