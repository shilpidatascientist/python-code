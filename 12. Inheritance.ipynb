{
 "cells": [
  {
   "cell_type": "markdown",
   "id": "af52a1f2-d547-4765-8cab-7593c4eeb6aa",
   "metadata": {},
   "source": [
    "Inheritance is the property inherited from parent class"
   ]
  },
  {
   "cell_type": "code",
   "execution_count": 3,
   "id": "23dd2e82-2d89-4795-b035-b54d27ddb807",
   "metadata": {},
   "outputs": [],
   "source": [
    "class parent:\n",
    "    \n",
    "    def test_parent(self):\n",
    "        print(\"this is parent class\")"
   ]
  },
  {
   "cell_type": "code",
   "execution_count": 4,
   "id": "b9ad1094-4b62-44a6-a7d6-cee80fac2991",
   "metadata": {},
   "outputs": [],
   "source": [
    "class child(parent):\n",
    "    pass"
   ]
  },
  {
   "cell_type": "code",
   "execution_count": 5,
   "id": "a0cd0761-35b5-4627-8933-d78e76e1f7db",
   "metadata": {},
   "outputs": [],
   "source": [
    "child_obj = child()"
   ]
  },
  {
   "cell_type": "code",
   "execution_count": 6,
   "id": "f1e6e966-2424-484e-ab09-d3ee239ff1ce",
   "metadata": {},
   "outputs": [
    {
     "name": "stdout",
     "output_type": "stream",
     "text": [
      "this is parent class\n"
     ]
    }
   ],
   "source": [
    "child_obj.test_parent()\n",
    "#with the help of child object, we can invoke parent class"
   ]
  },
  {
   "cell_type": "markdown",
   "id": "9f39f787-6bf9-44a7-a10f-1e4edcc248b5",
   "metadata": {},
   "source": [
    "Multi level Inheritance"
   ]
  },
  {
   "cell_type": "code",
   "execution_count": 7,
   "id": "51f3dba0-f53a-47e3-a85b-fa164381d901",
   "metadata": {},
   "outputs": [],
   "source": [
    "class class1:\n",
    "    def test_class1(self):\n",
    "        print(\"this is my class1 \")"
   ]
  },
  {
   "cell_type": "code",
   "execution_count": 9,
   "id": "9fd3c515-5262-47b2-bc15-3468ca080ed0",
   "metadata": {},
   "outputs": [],
   "source": [
    "#class 2 inherits the property of class1\n",
    "class class2(class1):\n",
    "    def test_class2(self):\n",
    "        print(\"this is my class2 \")"
   ]
  },
  {
   "cell_type": "code",
   "execution_count": 10,
   "id": "2b1e2b0f-c089-419e-b6b7-828d8fc2473e",
   "metadata": {},
   "outputs": [],
   "source": [
    "#class 3 inherits the property of class2\n",
    "class class3(class2):\n",
    "    def test_class3(self):\n",
    "        print(\"this is my class3 \")"
   ]
  },
  {
   "cell_type": "code",
   "execution_count": 11,
   "id": "00641c95-f6b5-4275-86bf-dc1a8f3785ff",
   "metadata": {},
   "outputs": [],
   "source": [
    "obj_class3 = class3()"
   ]
  },
  {
   "cell_type": "code",
   "execution_count": 12,
   "id": "0e317eb7-20b0-4462-b9e3-9b72065aadec",
   "metadata": {},
   "outputs": [
    {
     "name": "stdout",
     "output_type": "stream",
     "text": [
      "this is my class1 \n"
     ]
    }
   ],
   "source": [
    "obj_class3.test_class1()\n",
    "#here class 3 is able inherits the property of class1"
   ]
  },
  {
   "cell_type": "code",
   "execution_count": 13,
   "id": "47691cb0-3f7f-4811-9300-ae5326d97862",
   "metadata": {},
   "outputs": [
    {
     "name": "stdout",
     "output_type": "stream",
     "text": [
      "this is my class2 \n"
     ]
    }
   ],
   "source": [
    "obj_class3.test_class2()"
   ]
  },
  {
   "cell_type": "markdown",
   "id": "a94c7869-70be-4bd4-97b7-e46d1ad56bb2",
   "metadata": {},
   "source": [
    "Multiple Inheritance"
   ]
  },
  {
   "cell_type": "code",
   "execution_count": 16,
   "id": "f2a4c653-d323-48de-b98f-00f1712278bf",
   "metadata": {},
   "outputs": [],
   "source": [
    "class class1:\n",
    "    def test_class1(self):\n",
    "        print(\"this is class1 \")"
   ]
  },
  {
   "cell_type": "code",
   "execution_count": 17,
   "id": "15174ed7-cb08-4837-8ccd-a83200cbd0af",
   "metadata": {},
   "outputs": [],
   "source": [
    "class class2:\n",
    "    def test_class2(self):\n",
    "        print(\"this is class2 \")"
   ]
  },
  {
   "cell_type": "code",
   "execution_count": 20,
   "id": "f8064a78-36ff-41f7-823a-9c81c9408f21",
   "metadata": {},
   "outputs": [],
   "source": [
    "class class3(class1,class2):\n",
    "    pass"
   ]
  },
  {
   "cell_type": "code",
   "execution_count": 22,
   "id": "9694cb8a-6034-4025-8af5-9df66d6a7064",
   "metadata": {},
   "outputs": [],
   "source": [
    "obj_class3 = class3()\n",
    "#create object of class 3"
   ]
  },
  {
   "cell_type": "code",
   "execution_count": 24,
   "id": "f98f10f7-1acc-42a5-996f-083413999ef5",
   "metadata": {},
   "outputs": [
    {
     "name": "stdout",
     "output_type": "stream",
     "text": [
      "this is class1 \n"
     ]
    }
   ],
   "source": [
    "obj_class3.test_class1()\n",
    "#here class3 is able to inherit class1 function"
   ]
  },
  {
   "cell_type": "code",
   "execution_count": 25,
   "id": "1b63b81a-695b-42c6-b79f-981b7e2454e9",
   "metadata": {},
   "outputs": [
    {
     "name": "stdout",
     "output_type": "stream",
     "text": [
      "this is class2 \n"
     ]
    }
   ],
   "source": [
    "obj_class3.test_class2()\n",
    "#here class3 is able to inherit class2 function"
   ]
  },
  {
   "cell_type": "code",
   "execution_count": null,
   "id": "6719f53c-e78f-407f-b494-d6e12f5a65cb",
   "metadata": {},
   "outputs": [],
   "source": []
  }
 ],
 "metadata": {
  "kernelspec": {
   "display_name": "Python 3 (ipykernel)",
   "language": "python",
   "name": "python3"
  },
  "language_info": {
   "codemirror_mode": {
    "name": "ipython",
    "version": 3
   },
   "file_extension": ".py",
   "mimetype": "text/x-python",
   "name": "python",
   "nbconvert_exporter": "python",
   "pygments_lexer": "ipython3",
   "version": "3.10.8"
  }
 },
 "nbformat": 4,
 "nbformat_minor": 5
}
