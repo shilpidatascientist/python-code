{
 "cells": [
  {
   "cell_type": "markdown",
   "id": "6678bf19-fc43-46f5-859e-4a1c9f977715",
   "metadata": {},
   "source": [
    "List of General use exceptions:\n",
    "1. ZerDivisionError\n",
    "2. ValueError,TypeError\n",
    "3. ImportTError\n",
    "4. KeyError\n",
    "5. AttributeError\n",
    "6. IndexError\n",
    "7. TypeError\n",
    "8. FileNotFoundError\n",
    "9. \n",
    "10. "
   ]
  },
  {
   "cell_type": "code",
   "execution_count": 4,
   "id": "06d59114-1a52-42c2-8168-67da1d12f53f",
   "metadata": {},
   "outputs": [
    {
     "name": "stdout",
     "output_type": "stream",
     "text": [
      "division by zero\n"
     ]
    }
   ],
   "source": [
    "try:\n",
    "    a=10\n",
    "    a/0\n",
    "except ZeroDivisionError as e:\n",
    "    print (e)"
   ]
  },
  {
   "cell_type": "code",
   "execution_count": 5,
   "id": "2470c0aa-41a5-4182-aac4-a51902bdd5a9",
   "metadata": {},
   "outputs": [
    {
     "name": "stdout",
     "output_type": "stream",
     "text": [
      "invalid literal for int() with base 10: 'sudh'\n"
     ]
    }
   ],
   "source": [
    "try:\n",
    "    int(\"sudh\")\n",
    "except (ValueError,TypeError) as e:\n",
    "    print (e)"
   ]
  },
  {
   "cell_type": "code",
   "execution_count": 6,
   "id": "9aba105b-a4eb-4553-a380-647ad22633d1",
   "metadata": {},
   "outputs": [
    {
     "name": "stdout",
     "output_type": "stream",
     "text": [
      "No module named 'sudh'\n"
     ]
    }
   ],
   "source": [
    "try:\n",
    "    import sudh\n",
    "except ImportError as e:\n",
    "    print (e)\n",
    "    "
   ]
  },
  {
   "cell_type": "code",
   "execution_count": 7,
   "id": "d75cb5b5-387f-428f-a232-e7a196293931",
   "metadata": {},
   "outputs": [
    {
     "name": "stdout",
     "output_type": "stream",
     "text": [
      "'key10'\n"
     ]
    }
   ],
   "source": [
    "try:\n",
    "    d = {1:[1,2,3,4],'key':\"sudh\"}\n",
    "    d[\"key10\"]\n",
    "except KeyError as e:\n",
    "    print (e)"
   ]
  },
  {
   "cell_type": "code",
   "execution_count": 8,
   "id": "6744e869-03c1-4106-99ed-0c1a6c19d4e5",
   "metadata": {},
   "outputs": [
    {
     "name": "stdout",
     "output_type": "stream",
     "text": [
      "'str' object has no attribute 'tset'\n"
     ]
    }
   ],
   "source": [
    "try:\n",
    "    \"sudh\".tset()\n",
    "except AttributeError as e:\n",
    "    print(e)"
   ]
  },
  {
   "cell_type": "code",
   "execution_count": 9,
   "id": "cdd7ef04-76f3-47f6-8204-46805923a07c",
   "metadata": {},
   "outputs": [
    {
     "name": "stdout",
     "output_type": "stream",
     "text": [
      "list index out of range\n"
     ]
    }
   ],
   "source": [
    "try:\n",
    "    l=[1,2,3,4]\n",
    "    l[10]\n",
    "except IndexError as e:\n",
    "    print(e)"
   ]
  },
  {
   "cell_type": "code",
   "execution_count": 15,
   "id": "2764ab61-7b17-4d9b-a173-4390e159470f",
   "metadata": {},
   "outputs": [
    {
     "name": "stdout",
     "output_type": "stream",
     "text": [
      "unsupported operand type(s) for +: 'int' and 'str'\n"
     ]
    }
   ],
   "source": [
    "try:\n",
    "    123 + \"sudh\"\n",
    "except TypeError as e:\n",
    "    print(e)"
   ]
  },
  {
   "cell_type": "code",
   "execution_count": 19,
   "id": "f3dddd2f-4552-48df-b1fd-de14789f6565",
   "metadata": {},
   "outputs": [
    {
     "name": "stdout",
     "output_type": "stream",
     "text": [
      "[Errno 2] No such file or directory: 'test123.txt'\n"
     ]
    }
   ],
   "source": [
    "try:\n",
    "    with open(\"test123.txt\",'r') as f:\n",
    "        f.read()\n",
    "except FileNotFoundError as e:\n",
    "    print(e)"
   ]
  },
  {
   "cell_type": "code",
   "execution_count": 20,
   "id": "1be1b9ba-b312-4b53-9ff9-d8789f90c4e5",
   "metadata": {},
   "outputs": [
    {
     "name": "stdout",
     "output_type": "stream",
     "text": [
      "hello [Errno 2] No such file or directory: 'test123.txt'\n"
     ]
    }
   ],
   "source": [
    "#Only Super exception class gets executed\n",
    "try:\n",
    "    with open(\"test123.txt\",'r') as f:\n",
    "        f.read()\n",
    "except FileNotFoundError as e:\n",
    "    print(\"hello\",e)\n",
    "except Exception as e:\n",
    "    print(\"test\",e)"
   ]
  },
  {
   "cell_type": "code",
   "execution_count": null,
   "id": "0d27a9e5-4fb6-4373-a179-0212c96e4abd",
   "metadata": {},
   "outputs": [],
   "source": [
    "#try catch can be written inside a function also\n",
    "def test(file):\n",
    "    try:\n",
    "    with open(file,'r') as f:\n",
    "        f.read()\n",
    "except Exception as e:\n",
    "    print(\"test\",e)\n",
    "except FileNotFoundError as e:\n",
    "    print(\"hello\",e)"
   ]
  },
  {
   "cell_type": "code",
   "execution_count": null,
   "id": "ec6d4d96-fecc-4883-9452-5c9c499d7c54",
   "metadata": {},
   "outputs": [],
   "source": []
  }
 ],
 "metadata": {
  "kernelspec": {
   "display_name": "Python 3 (ipykernel)",
   "language": "python",
   "name": "python3"
  },
  "language_info": {
   "codemirror_mode": {
    "name": "ipython",
    "version": 3
   },
   "file_extension": ".py",
   "mimetype": "text/x-python",
   "name": "python",
   "nbconvert_exporter": "python",
   "pygments_lexer": "ipython3",
   "version": "3.10.8"
  }
 },
 "nbformat": 4,
 "nbformat_minor": 5
}
