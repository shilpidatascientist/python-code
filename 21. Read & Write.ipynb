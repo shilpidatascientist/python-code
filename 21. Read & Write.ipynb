{
 "cells": [
  {
   "cell_type": "markdown",
   "id": "70a81542-3b9f-40af-85a1-7649ec09a161",
   "metadata": {},
   "source": [
    "Read & Write Json,CSV and Binary File"
   ]
  },
  {
   "cell_type": "code",
   "execution_count": 3,
   "id": "c24af4e2-d76b-419d-a57d-d9129019da25",
   "metadata": {},
   "outputs": [],
   "source": [
    "data = {\n",
    "    \"name\" : \"Shilpi\",\n",
    "    \"email_id\" : \"shilpi.agrawal@gmail.com\",\n",
    "    \"phone_num\" : 9076355,\n",
    "    \"subject\" : [\"data scince\",\"big data\"]\n",
    "}\n",
    "#in a way this dictionary is a json notation (key & value pair)"
   ]
  },
  {
   "cell_type": "code",
   "execution_count": 4,
   "id": "d7354676-2f38-4cdc-9917-a8a8647f9557",
   "metadata": {},
   "outputs": [],
   "source": [
    "import json"
   ]
  },
  {
   "cell_type": "code",
   "execution_count": 5,
   "id": "64bab98a-d642-442e-9ab0-775792a43932",
   "metadata": {},
   "outputs": [],
   "source": [
    "with open(\"test1.json\",\"w\") as f:\n",
    "    json.dump(data,f)"
   ]
  },
  {
   "cell_type": "code",
   "execution_count": 6,
   "id": "5b82713f-ad53-405e-a020-3a0c18442243",
   "metadata": {},
   "outputs": [],
   "source": [
    "with open(\"test1.json\",\"r\") as f:\n",
    "    data1 = json.load(f)"
   ]
  },
  {
   "cell_type": "code",
   "execution_count": 7,
   "id": "a15b118f-8ba5-41eb-80ba-ec0015fd97bc",
   "metadata": {},
   "outputs": [
    {
     "data": {
      "text/plain": [
       "{'name': 'Shilpi',\n",
       " 'email_id': 'shilpi.agrawal@gmail.com',\n",
       " 'phone_num': 9076355,\n",
       " 'subject': ['data scince', 'big data']}"
      ]
     },
     "execution_count": 7,
     "metadata": {},
     "output_type": "execute_result"
    }
   ],
   "source": [
    "data1"
   ]
  },
  {
   "cell_type": "code",
   "execution_count": 9,
   "id": "a6b6e57a-47fb-4811-a917-c9d496c95d6c",
   "metadata": {},
   "outputs": [
    {
     "data": {
      "text/plain": [
       "'big data'"
      ]
     },
     "execution_count": 9,
     "metadata": {},
     "output_type": "execute_result"
    }
   ],
   "source": [
    "data1['subject'][1]"
   ]
  },
  {
   "cell_type": "markdown",
   "id": "7025b49f-edc4-47ec-a73f-ed950bde7f9c",
   "metadata": {},
   "source": [
    "Read & Write CSV file using writer() and writerow()"
   ]
  },
  {
   "cell_type": "code",
   "execution_count": 12,
   "id": "7bcc0b71-1690-437b-9e5c-879afe0dc116",
   "metadata": {},
   "outputs": [],
   "source": [
    "data = [[\"name\",\"email_id\",\"phone_num\"],\n",
    "        [\"shil\",\"shil@gmail.com\",74578465],\n",
    "        [\"shilpi\",\"shilpi@gmail.com\",74352465]\n",
    "        ]"
   ]
  },
  {
   "cell_type": "code",
   "execution_count": 13,
   "id": "b53ba954-aeb7-419f-9b79-e4243bbcb73f",
   "metadata": {},
   "outputs": [],
   "source": [
    "import csv"
   ]
  },
  {
   "cell_type": "code",
   "execution_count": 15,
   "id": "8e1417a8-49e7-4f28-8472-5cd9d0b6e460",
   "metadata": {},
   "outputs": [],
   "source": [
    "with open(\"test1.csv\",'w') as f:\n",
    "    w = csv.writer(f)\n",
    "    for i in data:\n",
    "        w.writerow(i)"
   ]
  },
  {
   "cell_type": "code",
   "execution_count": null,
   "id": "f0f1d435-f843-47bb-af7d-1e4b9b021b95",
   "metadata": {},
   "outputs": [
    {
     "name": "stdout",
     "output_type": "stream",
     "text": [
      "['name', 'email_id', 'phone_num']\n",
      "['shil', 'shil@gmail.com', '74578465']\n",
      "['shilpi', 'shilpi@gmail.com', '74352465']\n"
     ]
    }
   ],
   "source": [
    "with open(\"test1.csv\",'r') as f:\n",
    "    r = csv.reader(f)\n",
    "    for i in r:'\n",
    "        print(i)"
   ]
  },
  {
   "cell_type": "markdown",
   "id": "7391b725-fec0-4eb9-b83b-f30a79389379",
   "metadata": {},
   "source": [
    "Read & Write Binary data"
   ]
  },
  {
   "cell_type": "code",
   "execution_count": 21,
   "id": "9cba02c8-b1ec-40ea-bb0d-d6b5a63805af",
   "metadata": {},
   "outputs": [],
   "source": [
    "with open(\"test1.bin\",'wb') as f:\n",
    "    f.write(b\"\\x01\\x02\\x03\")"
   ]
  },
  {
   "cell_type": "code",
   "execution_count": 24,
   "id": "f4772f1e-98be-4911-81fa-618ff75f4df0",
   "metadata": {},
   "outputs": [
    {
     "name": "stdout",
     "output_type": "stream",
     "text": [
      "b'\\x01\\x02\\x03'\n"
     ]
    }
   ],
   "source": [
    "with open(\"test1.bin\",\"rb\") as f:\n",
    "    print(f.read())"
   ]
  },
  {
   "cell_type": "code",
   "execution_count": null,
   "id": "e574865e-05d3-4574-9227-cadac05fbf08",
   "metadata": {},
   "outputs": [],
   "source": []
  }
 ],
 "metadata": {
  "kernelspec": {
   "display_name": "Python 3 (ipykernel)",
   "language": "python",
   "name": "python3"
  },
  "language_info": {
   "codemirror_mode": {
    "name": "ipython",
    "version": 3
   },
   "file_extension": ".py",
   "mimetype": "text/x-python",
   "name": "python",
   "nbconvert_exporter": "python",
   "pygments_lexer": "ipython3",
   "version": "3.10.8"
  }
 },
 "nbformat": 4,
 "nbformat_minor": 5
}
