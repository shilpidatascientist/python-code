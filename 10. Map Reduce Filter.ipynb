{
 "cells": [
  {
   "cell_type": "code",
   "execution_count": 1,
   "id": "be141aba-4f06-4e61-abee-db9038a5d477",
   "metadata": {},
   "outputs": [],
   "source": [
    "l=[1,2,3,4]"
   ]
  },
  {
   "cell_type": "code",
   "execution_count": 2,
   "id": "da6dd5d7-8d00-4628-9c9f-07f6d7b389fc",
   "metadata": {},
   "outputs": [],
   "source": [
    "def sqr(x):\n",
    "    return x**2"
   ]
  },
  {
   "cell_type": "code",
   "execution_count": 4,
   "id": "36942fb4-641a-489f-b4dd-770e347757f7",
   "metadata": {},
   "outputs": [
    {
     "data": {
      "text/plain": [
       "<map at 0x7f73f551e560>"
      ]
     },
     "execution_count": 4,
     "metadata": {},
     "output_type": "execute_result"
    }
   ],
   "source": [
    "map(sqr,l)"
   ]
  },
  {
   "cell_type": "code",
   "execution_count": 6,
   "id": "254069a7-f7fd-4bdb-bf0d-c0fe532c07d5",
   "metadata": {},
   "outputs": [
    {
     "data": {
      "text/plain": [
       "[1, 4, 9, 16]"
      ]
     },
     "execution_count": 6,
     "metadata": {},
     "output_type": "execute_result"
    }
   ],
   "source": [
    "list(map(sqr,l))"
   ]
  },
  {
   "cell_type": "code",
   "execution_count": 9,
   "id": "9717840f-6ac9-4530-b2d3-747ffc238cd6",
   "metadata": {},
   "outputs": [
    {
     "data": {
      "text/plain": [
       "[8, 64, 125]"
      ]
     },
     "execution_count": 9,
     "metadata": {},
     "output_type": "execute_result"
    }
   ],
   "source": [
    "#mapper with lambda function\n",
    "list(map(lambda x:x**3,[2,4,5]))"
   ]
  },
  {
   "cell_type": "code",
   "execution_count": 10,
   "id": "411bf46f-e115-4867-88d8-34bca4b34fd7",
   "metadata": {},
   "outputs": [
    {
     "data": {
      "text/plain": [
       "['1', '2', '3', '4']"
      ]
     },
     "execution_count": 10,
     "metadata": {},
     "output_type": "execute_result"
    }
   ],
   "source": [
    "#covert list into string\n",
    "list(map(lambda x:str(x),l))"
   ]
  },
  {
   "cell_type": "code",
   "execution_count": 11,
   "id": "3d50fc21-099b-4973-a270-f0ed1db887ef",
   "metadata": {},
   "outputs": [],
   "source": [
    "l1=[2,3,4,5]\n",
    "l2=[6,7,8,9]"
   ]
  },
  {
   "cell_type": "code",
   "execution_count": 12,
   "id": "7fb1b88e-d834-4a07-be7c-91208506b4f2",
   "metadata": {},
   "outputs": [
    {
     "data": {
      "text/plain": [
       "[8, 10, 12, 14]"
      ]
     },
     "execution_count": 12,
     "metadata": {},
     "output_type": "execute_result"
    }
   ],
   "source": [
    "#addition of 2 lists\n",
    "list(map(lambda x,y:x+y,l1,l2))"
   ]
  },
  {
   "cell_type": "code",
   "execution_count": 13,
   "id": "a1faa61a-3b65-4bf5-b2a3-27f2c97b92d0",
   "metadata": {},
   "outputs": [
    {
     "data": {
      "text/plain": [
       "[8, 10, 12, 14]"
      ]
     },
     "execution_count": 13,
     "metadata": {},
     "output_type": "execute_result"
    }
   ],
   "source": [
    "# we can store lambda functions in variable and then call them\n",
    "f=lambda x,y:x+y\n",
    "list(map(f,l1,l2))"
   ]
  },
  {
   "cell_type": "code",
   "execution_count": 14,
   "id": "6a1fab6a-02ab-4be7-aaab-8afac6e5fe6a",
   "metadata": {},
   "outputs": [],
   "source": [
    "s='pwskills'"
   ]
  },
  {
   "cell_type": "code",
   "execution_count": 18,
   "id": "256e9d75-8190-448b-8040-ba79f2e08c8a",
   "metadata": {},
   "outputs": [
    {
     "data": {
      "text/plain": [
       "['P', 'W', 'S', 'K', 'I', 'L', 'L', 'S']"
      ]
     },
     "execution_count": 18,
     "metadata": {},
     "output_type": "execute_result"
    }
   ],
   "source": [
    "list(s.upper())"
   ]
  },
  {
   "cell_type": "code",
   "execution_count": 24,
   "id": "68ac2664-f7c3-42b3-b3e3-6002230760ab",
   "metadata": {},
   "outputs": [
    {
     "data": {
      "text/plain": [
       "['P', 'W', 'S', 'K', 'I', 'L', 'L', 'S']"
      ]
     },
     "execution_count": 24,
     "metadata": {},
     "output_type": "execute_result"
    }
   ],
   "source": [
    "#convert a string into a list & return it in upper case\n",
    "list(map(lambda x:x.upper(),s))"
   ]
  },
  {
   "cell_type": "markdown",
   "id": "b1afb4bc-da2e-488d-9baa-eadb9b3f0bc3",
   "metadata": {},
   "source": [
    "Reduce"
   ]
  },
  {
   "cell_type": "code",
   "execution_count": 25,
   "id": "c7703a8a-cf11-4fc0-bcbf-a0a5b918fb51",
   "metadata": {},
   "outputs": [],
   "source": [
    "from functools import reduce"
   ]
  },
  {
   "cell_type": "code",
   "execution_count": 26,
   "id": "116a6853-a251-4742-a325-76926d9dd72e",
   "metadata": {},
   "outputs": [],
   "source": [
    "l=[1,2,3,4,5]"
   ]
  },
  {
   "cell_type": "code",
   "execution_count": 27,
   "id": "ba215ba6-8b23-48e5-ba0c-a85df0003b23",
   "metadata": {},
   "outputs": [
    {
     "data": {
      "text/plain": [
       "15"
      ]
     },
     "execution_count": 27,
     "metadata": {},
     "output_type": "execute_result"
    }
   ],
   "source": [
    "#reduce functions : keeps reducing no. of elements \n",
    "reduce(lambda x,y:x+y,l)"
   ]
  },
  {
   "cell_type": "code",
   "execution_count": 28,
   "id": "ba82ef78-69d1-492b-9a59-8fa957eff4a4",
   "metadata": {},
   "outputs": [],
   "source": [
    "#we can call external functions also\n",
    "def add(x,y):\n",
    "    return x+y"
   ]
  },
  {
   "cell_type": "code",
   "execution_count": 29,
   "id": "96ae7a3a-c399-41cc-a2e5-172a903091db",
   "metadata": {},
   "outputs": [
    {
     "data": {
      "text/plain": [
       "15"
      ]
     },
     "execution_count": 29,
     "metadata": {},
     "output_type": "execute_result"
    }
   ],
   "source": [
    "reduce(add,l)"
   ]
  },
  {
   "cell_type": "markdown",
   "id": "b9c2e8d9-bc19-449f-a31e-367e2242e631",
   "metadata": {},
   "source": [
    "#reduce cannot work with 3 arguments, it works in pair"
   ]
  },
  {
   "cell_type": "code",
   "execution_count": 30,
   "id": "cd4fad7c-be35-4d6e-83e8-a5b4ade81b28",
   "metadata": {},
   "outputs": [
    {
     "data": {
      "text/plain": [
       "1"
      ]
     },
     "execution_count": 30,
     "metadata": {},
     "output_type": "execute_result"
    }
   ],
   "source": [
    "#exceptional case of reduce function, it works with one argument\n",
    "reduce(add,[1])"
   ]
  },
  {
   "cell_type": "code",
   "execution_count": 33,
   "id": "333839e9-1247-46de-a8ef-28eb46a26656",
   "metadata": {},
   "outputs": [
    {
     "data": {
      "text/plain": [
       "5"
      ]
     },
     "execution_count": 33,
     "metadata": {},
     "output_type": "execute_result"
    }
   ],
   "source": [
    "reduce(lambda x,y : x if x>y else y,l)"
   ]
  },
  {
   "cell_type": "markdown",
   "id": "dc6b87ea-cf5b-4e42-a2e4-ed2c6e9b8aa9",
   "metadata": {},
   "source": [
    "Filter function"
   ]
  },
  {
   "cell_type": "code",
   "execution_count": 36,
   "id": "959ca5ad-c402-429a-a0a2-18b297c1e2c8",
   "metadata": {},
   "outputs": [
    {
     "data": {
      "text/plain": [
       "[2, 4]"
      ]
     },
     "execution_count": 36,
     "metadata": {},
     "output_type": "execute_result"
    }
   ],
   "source": [
    "#filter all even numbers from the list\n",
    "list(filter(lambda x:x%2==0,l))"
   ]
  },
  {
   "cell_type": "code",
   "execution_count": 38,
   "id": "8c0f5f2f-155b-4b12-94a5-cf892a36af05",
   "metadata": {},
   "outputs": [
    {
     "data": {
      "text/plain": [
       "[1, 3, 5]"
      ]
     },
     "execution_count": 38,
     "metadata": {},
     "output_type": "execute_result"
    }
   ],
   "source": [
    "#filter all odd numbers from the list\n",
    "list(filter(lambda x : x%2!=0,l))"
   ]
  },
  {
   "cell_type": "code",
   "execution_count": 39,
   "id": "aaa9e6ed-84cf-4e92-b48f-ef5d47d974c0",
   "metadata": {},
   "outputs": [],
   "source": [
    "l1=[1,2,-3,-4,-5,6]"
   ]
  },
  {
   "cell_type": "code",
   "execution_count": 40,
   "id": "a086c445-95e1-4228-8157-287b5888e626",
   "metadata": {},
   "outputs": [
    {
     "data": {
      "text/plain": [
       "[-3, -4, -5]"
      ]
     },
     "execution_count": 40,
     "metadata": {},
     "output_type": "execute_result"
    }
   ],
   "source": [
    "#filter all -ve numbers in the list\n",
    "list(filter(lambda x : x<0,l1))"
   ]
  },
  {
   "cell_type": "code",
   "execution_count": 42,
   "id": "5e7b63a9-2be2-4dc4-9be8-8422ec518edb",
   "metadata": {},
   "outputs": [
    {
     "data": {
      "text/plain": [
       "[1, 2, 6]"
      ]
     },
     "execution_count": 42,
     "metadata": {},
     "output_type": "execute_result"
    }
   ],
   "source": [
    "#filter all positive numbers in the list\n",
    "list(filter(lambda x : x>=0,l1))"
   ]
  },
  {
   "cell_type": "code",
   "execution_count": 43,
   "id": "d0ad33c5-dca4-4eb9-990a-40010987f54b",
   "metadata": {},
   "outputs": [],
   "source": [
    "l2=[\"shilpi\",\"bangalore\",\"data\"]"
   ]
  },
  {
   "cell_type": "code",
   "execution_count": 46,
   "id": "3d956fb2-be56-40dd-848d-20694e51dc8c",
   "metadata": {},
   "outputs": [
    {
     "data": {
      "text/plain": [
       "['data']"
      ]
     },
     "execution_count": 46,
     "metadata": {},
     "output_type": "execute_result"
    }
   ],
   "source": [
    "#filter all those elements whose length is less than 6\n",
    "list(filter(lambda x : len(x)<6, l2))"
   ]
  },
  {
   "cell_type": "code",
   "execution_count": null,
   "id": "4ae7c101-9d47-4a0e-b02c-14c71413d9c8",
   "metadata": {},
   "outputs": [],
   "source": []
  }
 ],
 "metadata": {
  "kernelspec": {
   "display_name": "Python 3 (ipykernel)",
   "language": "python",
   "name": "python3"
  },
  "language_info": {
   "codemirror_mode": {
    "name": "ipython",
    "version": 3
   },
   "file_extension": ".py",
   "mimetype": "text/x-python",
   "name": "python",
   "nbconvert_exporter": "python",
   "pygments_lexer": "ipython3",
   "version": "3.10.8"
  }
 },
 "nbformat": 4,
 "nbformat_minor": 5
}
