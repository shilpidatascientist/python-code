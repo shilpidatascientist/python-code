{
 "cells": [
  {
   "cell_type": "markdown",
   "id": "b934047e-f6af-4103-bb14-9bb697ab3938",
   "metadata": {},
   "source": [
    "Decorators:\n",
    "If we need a print statement each time in every function then we create a decorator.Very useful for repeatative work."
   ]
  },
  {
   "cell_type": "code",
   "execution_count": 3,
   "id": "fdb50dcb-dcd3-47bd-80ab-0a0cede7af93",
   "metadata": {},
   "outputs": [],
   "source": [
    "def test():\n",
    "    print(\"this is the start of my function.\")\n",
    "    print(4+5)\n",
    "    print(\"this is the end of my function.\")"
   ]
  },
  {
   "cell_type": "code",
   "execution_count": 4,
   "id": "aba05b86-7d0f-442f-87d8-791b666e8e55",
   "metadata": {},
   "outputs": [
    {
     "name": "stdout",
     "output_type": "stream",
     "text": [
      "this is the start of my function.\n",
      "9\n",
      "this is the end of my function.\n"
     ]
    }
   ],
   "source": [
    "test()"
   ]
  },
  {
   "cell_type": "code",
   "execution_count": 5,
   "id": "d3b19a6f-57a5-478b-87c9-4edbb86dee46",
   "metadata": {},
   "outputs": [],
   "source": [
    "def deco(func):\n",
    "    def inner_deco():\n",
    "         print(\"this is the start of my function.\")\n",
    "         func()\n",
    "         print(\"this is the end of my function.\")\n",
    "    return inner_deco"
   ]
  },
  {
   "cell_type": "code",
   "execution_count": 14,
   "id": "01d74cab-a24a-4db5-88d2-81f0eb2573c7",
   "metadata": {},
   "outputs": [],
   "source": [
    "@deco\n",
    "def test1():\n",
    "    print(\"hello\")\n",
    "#calling the decorator to be executed with test1 finction when it will be called"
   ]
  },
  {
   "cell_type": "code",
   "execution_count": 15,
   "id": "07b8acc6-be9a-43dc-b79f-1861cc999b4d",
   "metadata": {},
   "outputs": [
    {
     "name": "stdout",
     "output_type": "stream",
     "text": [
      "this is the start of my function.\n",
      "hello\n",
      "this is the end of my function.\n"
     ]
    }
   ],
   "source": [
    "test1()"
   ]
  },
  {
   "cell_type": "code",
   "execution_count": 2,
   "id": "bacdda5c-9fb4-4bfe-a1b1-2052bc43197c",
   "metadata": {},
   "outputs": [],
   "source": [
    "import time\n",
    "def test_timer(funct):\n",
    "    def test_timer_inner():\n",
    "        start = time.time()\n",
    "        funct()\n",
    "        end = time.time()\n",
    "        print(end - start)\n",
    "    return test_timer_inner"
   ]
  },
  {
   "cell_type": "code",
   "execution_count": 3,
   "id": "78653d6f-ef31-4585-9f8c-d7b0a527effa",
   "metadata": {},
   "outputs": [],
   "source": [
    "@test_timer\n",
    "def test2():\n",
    "    print(45+67)"
   ]
  },
  {
   "cell_type": "code",
   "execution_count": 4,
   "id": "ff067c12-b8c1-435f-b82b-dad062f4c248",
   "metadata": {},
   "outputs": [
    {
     "name": "stdout",
     "output_type": "stream",
     "text": [
      "112\n",
      "4.887580871582031e-05\n"
     ]
    }
   ],
   "source": [
    "test2()"
   ]
  },
  {
   "cell_type": "code",
   "execution_count": 8,
   "id": "028bf3a9-94f3-4f1b-b23c-9d5c81875d5f",
   "metadata": {},
   "outputs": [],
   "source": [
    "@test_timer\n",
    "def test3():\n",
    "    for i in range(10000000):\n",
    "        pass"
   ]
  },
  {
   "cell_type": "code",
   "execution_count": 9,
   "id": "cc5d8372-2a60-417b-9843-19a4f60a6126",
   "metadata": {},
   "outputs": [
    {
     "name": "stdout",
     "output_type": "stream",
     "text": [
      "0.2621338367462158\n"
     ]
    }
   ],
   "source": [
    "test3()"
   ]
  },
  {
   "cell_type": "code",
   "execution_count": null,
   "id": "a8a5a151-6272-45e1-ae00-f55e2c5709d6",
   "metadata": {},
   "outputs": [],
   "source": []
  }
 ],
 "metadata": {
  "kernelspec": {
   "display_name": "Python 3 (ipykernel)",
   "language": "python",
   "name": "python3"
  },
  "language_info": {
   "codemirror_mode": {
    "name": "ipython",
    "version": 3
   },
   "file_extension": ".py",
   "mimetype": "text/x-python",
   "name": "python",
   "nbconvert_exporter": "python",
   "pygments_lexer": "ipython3",
   "version": "3.10.8"
  }
 },
 "nbformat": 4,
 "nbformat_minor": 5
}
